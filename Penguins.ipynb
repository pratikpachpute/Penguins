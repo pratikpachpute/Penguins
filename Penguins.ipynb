{
 "cells": [
  {
   "cell_type": "markdown",
   "id": "d744ea15",
   "metadata": {},
   "source": [
    "## Problem/Question"
   ]
  },
  {
   "cell_type": "markdown",
   "id": "a7fe19e4",
   "metadata": {},
   "source": [
    "#### According to the Australian Antarctic Program (2022), there are a total of 18 species of penguins currently know, 5 of which line in Antarctica, and 4 other live on sub-Antarctic islands. For researchers, it is very important to differentiate among species to better understand mating patterns, eating cycles, and the overall development of penguins. Therefore, we believe it is important to leverage machine learning techniques to distinguish among species, and effectively predict the specie of a penguin given certain characteristics."
   ]
  },
  {
   "cell_type": "markdown",
   "id": "6cbb9690",
   "metadata": {},
   "source": [
    "## Data Sources/References"
   ]
  },
  {
   "cell_type": "markdown",
   "id": "7e484c80",
   "metadata": {},
   "source": [
    "#### The data used in this project was collected, cleaned, and published by Dr. Kristen Gorman and the Palmer Station, Antarctica LTER, a member of the Long Term Ecological Research Network. The dataset counts with 7 variables, and a total of 344 observations. All the variables are explained in detail later in the report.\n",
    "#### Three main species of penguins are analyzed. Adélie penguins, with a population of 2.4 million, and a lifespan of 15-20 years. Gentoo penguins, with a population of 400,000, and a lifespan of 12-15 years. Lastly, Chinstrap penguins, with a population of 8 million, and a lifespan of 12-15 years.\n",
    "#### References:\n",
    "#### Australian Antarctic Program (2022) About Antarctica, Animals, Penguins.\n",
    "#### https://www.antarctica.gov.au/\n",
    "#### Gorman KB, Williams TD, Fraser WR (2014) Ecological Sexual Dimorphism and Environmental Variability within a Community of Antarctic Penguins (Genus Pygoscelis). PLoS ONE 9(3): e90081. doi:10.1371/journal.pone.0090081"
   ]
  },
  {
   "cell_type": "markdown",
   "id": "2b42afba",
   "metadata": {},
   "source": [
    "#### The dataset has 7 columns describing the three species of Penguins. The goal of the project is to create Machine Learning models to predict the Species of the Penguins, and in a similar way to predict the Sex as well. We would like to compare the performance of different models build for predicting each target variable.  The models would  also be helpful in determing the influential features if any,  in determining the Species and Sex of the Penguins. It would be interesting to see if there are any similarities or differences in the features that are most influential in determinning the two target variables."
   ]
  },
  {
   "cell_type": "markdown",
   "id": "63231dd3",
   "metadata": {},
   "source": [
    "#### The Variables in the dataset are expalined as below:"
   ]
  },
  {
   "cell_type": "markdown",
   "id": "15bb5e33",
   "metadata": {},
   "source": [
    "#### Species: A categorical variable indicating the species of each penguin (Adelie, Gentoo, or Chinstrap)\n",
    "#### Island: A categorical variable indicating the island where each penguin was observed (Biscoe, Dream, or Torgersen)\n",
    "#### culmen_length_mm: The length of the penguin’s culmen (bill) in millimeters. \n",
    "#### culmen_depth_mm: The depth of the penguin’s culmen (bill) in millimeters. \n",
    "#### flipper_length_mm: The length of the penguin’s flipper in millimeters\n",
    "#### body_mass_g: The mass of the penguin’s body in grams. \n",
    "#### sex: The sex of the penguin, either male or female"
   ]
  },
  {
   "cell_type": "markdown",
   "id": "4b110bf0",
   "metadata": {},
   "source": [
    "## Summary of work done"
   ]
  },
  {
   "cell_type": "markdown",
   "id": "fd342b91",
   "metadata": {},
   "source": [
    "#### The Analysis was done in two parts. \n",
    "#### Part I: This part is focused on predicting the Species of the Penguins with the remaining variables as Predictors. We started with Supervised Machine Learning models using Decision Tree, Random Forest, Gaussian Naive Bayes and Support Vector Machines to predict the Species, the important features influencing the prediction, and  compared the accuracies obtained from these models. \n",
    "#### We then used Unsupervised Machine Learning using Clustering with the K-means Clustering algorithm, which uses the Euclidean distance to cluster the observations. The count of observations obtained from clustering for each of the 3 clusters was compared to the actual counts of the clusters to test for accuracy. The last model used was KNN algorithm with different values of K.\n",
    "#### Part II: In this part the same structure of analysis is followed as done in part I, to predict the Sex of the Penguins.\n",
    "#### After the data is explored, cleaned, and appropriately encoded where needed, different machine learning models are built. These models are first trained, accuracy and confusion matrix are also analyzed The results, accuracy and confusion matrix of the model is commented. The features and their importance are also displayed.\n",
    "#### Lastly, final conclusions and the Highlights of the study are presented."
   ]
  },
  {
   "cell_type": "markdown",
   "id": "9897b2eb",
   "metadata": {},
   "source": [
    "## Part I: Predicitng the Species of Penguins."
   ]
  },
  {
   "cell_type": "markdown",
   "id": "57531669",
   "metadata": {},
   "source": [
    "### Pre-Processing"
   ]
  },
  {
   "cell_type": "code",
   "execution_count": 65,
   "id": "bd9862ce",
   "metadata": {},
   "outputs": [],
   "source": [
    "import pandas as pd"
   ]
  },
  {
   "cell_type": "code",
   "execution_count": 66,
   "id": "5c68f731",
   "metadata": {},
   "outputs": [
    {
     "data": {
      "text/plain": [
       "'/Users/pratik'"
      ]
     },
     "execution_count": 66,
     "metadata": {},
     "output_type": "execute_result"
    }
   ],
   "source": [
    "pwd()"
   ]
  },
  {
   "cell_type": "code",
   "execution_count": 67,
   "id": "ade962c1",
   "metadata": {},
   "outputs": [],
   "source": [
    "input_file = (\"/Users/pratik/Desktop/Harrisburg University programs/Courses/Late Fall Courses 2022/ANLY 530 Principles of Machine Learning/Project/penguins_size.csv\")"
   ]
  },
  {
   "cell_type": "code",
   "execution_count": 68,
   "id": "c4e311b5",
   "metadata": {},
   "outputs": [],
   "source": [
    "data = pd.read_csv(input_file)"
   ]
  },
  {
   "cell_type": "code",
   "execution_count": 69,
   "id": "1162a898",
   "metadata": {},
   "outputs": [
    {
     "data": {
      "text/html": [
       "<div>\n",
       "<style scoped>\n",
       "    .dataframe tbody tr th:only-of-type {\n",
       "        vertical-align: middle;\n",
       "    }\n",
       "\n",
       "    .dataframe tbody tr th {\n",
       "        vertical-align: top;\n",
       "    }\n",
       "\n",
       "    .dataframe thead th {\n",
       "        text-align: right;\n",
       "    }\n",
       "</style>\n",
       "<table border=\"1\" class=\"dataframe\">\n",
       "  <thead>\n",
       "    <tr style=\"text-align: right;\">\n",
       "      <th></th>\n",
       "      <th>species</th>\n",
       "      <th>island</th>\n",
       "      <th>culmen_length_mm</th>\n",
       "      <th>culmen_depth_mm</th>\n",
       "      <th>flipper_length_mm</th>\n",
       "      <th>body_mass_g</th>\n",
       "      <th>sex</th>\n",
       "    </tr>\n",
       "  </thead>\n",
       "  <tbody>\n",
       "    <tr>\n",
       "      <th>0</th>\n",
       "      <td>Adelie</td>\n",
       "      <td>Torgersen</td>\n",
       "      <td>39.1</td>\n",
       "      <td>18.7</td>\n",
       "      <td>181.0</td>\n",
       "      <td>3750.0</td>\n",
       "      <td>MALE</td>\n",
       "    </tr>\n",
       "    <tr>\n",
       "      <th>1</th>\n",
       "      <td>Adelie</td>\n",
       "      <td>Torgersen</td>\n",
       "      <td>39.5</td>\n",
       "      <td>17.4</td>\n",
       "      <td>186.0</td>\n",
       "      <td>3800.0</td>\n",
       "      <td>FEMALE</td>\n",
       "    </tr>\n",
       "    <tr>\n",
       "      <th>2</th>\n",
       "      <td>Adelie</td>\n",
       "      <td>Torgersen</td>\n",
       "      <td>40.3</td>\n",
       "      <td>18.0</td>\n",
       "      <td>195.0</td>\n",
       "      <td>3250.0</td>\n",
       "      <td>FEMALE</td>\n",
       "    </tr>\n",
       "    <tr>\n",
       "      <th>3</th>\n",
       "      <td>Adelie</td>\n",
       "      <td>Torgersen</td>\n",
       "      <td>NaN</td>\n",
       "      <td>NaN</td>\n",
       "      <td>NaN</td>\n",
       "      <td>NaN</td>\n",
       "      <td>NaN</td>\n",
       "    </tr>\n",
       "    <tr>\n",
       "      <th>4</th>\n",
       "      <td>Adelie</td>\n",
       "      <td>Torgersen</td>\n",
       "      <td>36.7</td>\n",
       "      <td>19.3</td>\n",
       "      <td>193.0</td>\n",
       "      <td>3450.0</td>\n",
       "      <td>FEMALE</td>\n",
       "    </tr>\n",
       "  </tbody>\n",
       "</table>\n",
       "</div>"
      ],
      "text/plain": [
       "  species     island  culmen_length_mm  culmen_depth_mm  flipper_length_mm  \\\n",
       "0  Adelie  Torgersen              39.1             18.7              181.0   \n",
       "1  Adelie  Torgersen              39.5             17.4              186.0   \n",
       "2  Adelie  Torgersen              40.3             18.0              195.0   \n",
       "3  Adelie  Torgersen               NaN              NaN                NaN   \n",
       "4  Adelie  Torgersen              36.7             19.3              193.0   \n",
       "\n",
       "   body_mass_g     sex  \n",
       "0       3750.0    MALE  \n",
       "1       3800.0  FEMALE  \n",
       "2       3250.0  FEMALE  \n",
       "3          NaN     NaN  \n",
       "4       3450.0  FEMALE  "
      ]
     },
     "execution_count": 69,
     "metadata": {},
     "output_type": "execute_result"
    }
   ],
   "source": [
    "data.head()"
   ]
  },
  {
   "cell_type": "code",
   "execution_count": 70,
   "id": "507b1fc4",
   "metadata": {},
   "outputs": [
    {
     "data": {
      "text/plain": [
       "species               object\n",
       "island                object\n",
       "culmen_length_mm     float64\n",
       "culmen_depth_mm      float64\n",
       "flipper_length_mm    float64\n",
       "body_mass_g          float64\n",
       "sex                   object\n",
       "dtype: object"
      ]
     },
     "execution_count": 70,
     "metadata": {},
     "output_type": "execute_result"
    }
   ],
   "source": [
    "data.dtypes"
   ]
  },
  {
   "cell_type": "code",
   "execution_count": 71,
   "id": "17178cfa",
   "metadata": {},
   "outputs": [
    {
     "data": {
      "text/html": [
       "<div>\n",
       "<style scoped>\n",
       "    .dataframe tbody tr th:only-of-type {\n",
       "        vertical-align: middle;\n",
       "    }\n",
       "\n",
       "    .dataframe tbody tr th {\n",
       "        vertical-align: top;\n",
       "    }\n",
       "\n",
       "    .dataframe thead th {\n",
       "        text-align: right;\n",
       "    }\n",
       "</style>\n",
       "<table border=\"1\" class=\"dataframe\">\n",
       "  <thead>\n",
       "    <tr style=\"text-align: right;\">\n",
       "      <th></th>\n",
       "      <th>culmen_length_mm</th>\n",
       "      <th>culmen_depth_mm</th>\n",
       "      <th>flipper_length_mm</th>\n",
       "      <th>body_mass_g</th>\n",
       "    </tr>\n",
       "  </thead>\n",
       "  <tbody>\n",
       "    <tr>\n",
       "      <th>count</th>\n",
       "      <td>342.000000</td>\n",
       "      <td>342.000000</td>\n",
       "      <td>342.000000</td>\n",
       "      <td>342.000000</td>\n",
       "    </tr>\n",
       "    <tr>\n",
       "      <th>mean</th>\n",
       "      <td>43.921930</td>\n",
       "      <td>17.151170</td>\n",
       "      <td>200.915205</td>\n",
       "      <td>4201.754386</td>\n",
       "    </tr>\n",
       "    <tr>\n",
       "      <th>std</th>\n",
       "      <td>5.459584</td>\n",
       "      <td>1.974793</td>\n",
       "      <td>14.061714</td>\n",
       "      <td>801.954536</td>\n",
       "    </tr>\n",
       "    <tr>\n",
       "      <th>min</th>\n",
       "      <td>32.100000</td>\n",
       "      <td>13.100000</td>\n",
       "      <td>172.000000</td>\n",
       "      <td>2700.000000</td>\n",
       "    </tr>\n",
       "    <tr>\n",
       "      <th>25%</th>\n",
       "      <td>39.225000</td>\n",
       "      <td>15.600000</td>\n",
       "      <td>190.000000</td>\n",
       "      <td>3550.000000</td>\n",
       "    </tr>\n",
       "    <tr>\n",
       "      <th>50%</th>\n",
       "      <td>44.450000</td>\n",
       "      <td>17.300000</td>\n",
       "      <td>197.000000</td>\n",
       "      <td>4050.000000</td>\n",
       "    </tr>\n",
       "    <tr>\n",
       "      <th>75%</th>\n",
       "      <td>48.500000</td>\n",
       "      <td>18.700000</td>\n",
       "      <td>213.000000</td>\n",
       "      <td>4750.000000</td>\n",
       "    </tr>\n",
       "    <tr>\n",
       "      <th>max</th>\n",
       "      <td>59.600000</td>\n",
       "      <td>21.500000</td>\n",
       "      <td>231.000000</td>\n",
       "      <td>6300.000000</td>\n",
       "    </tr>\n",
       "  </tbody>\n",
       "</table>\n",
       "</div>"
      ],
      "text/plain": [
       "       culmen_length_mm  culmen_depth_mm  flipper_length_mm  body_mass_g\n",
       "count        342.000000       342.000000         342.000000   342.000000\n",
       "mean          43.921930        17.151170         200.915205  4201.754386\n",
       "std            5.459584         1.974793          14.061714   801.954536\n",
       "min           32.100000        13.100000         172.000000  2700.000000\n",
       "25%           39.225000        15.600000         190.000000  3550.000000\n",
       "50%           44.450000        17.300000         197.000000  4050.000000\n",
       "75%           48.500000        18.700000         213.000000  4750.000000\n",
       "max           59.600000        21.500000         231.000000  6300.000000"
      ]
     },
     "execution_count": 71,
     "metadata": {},
     "output_type": "execute_result"
    }
   ],
   "source": [
    "data.describe()"
   ]
  },
  {
   "cell_type": "code",
   "execution_count": 72,
   "id": "17e63d87",
   "metadata": {},
   "outputs": [
    {
     "name": "stdout",
     "output_type": "stream",
     "text": [
      "<class 'pandas.core.frame.DataFrame'>\n",
      "RangeIndex: 344 entries, 0 to 343\n",
      "Data columns (total 7 columns):\n",
      " #   Column             Non-Null Count  Dtype  \n",
      "---  ------             --------------  -----  \n",
      " 0   species            344 non-null    object \n",
      " 1   island             344 non-null    object \n",
      " 2   culmen_length_mm   342 non-null    float64\n",
      " 3   culmen_depth_mm    342 non-null    float64\n",
      " 4   flipper_length_mm  342 non-null    float64\n",
      " 5   body_mass_g        342 non-null    float64\n",
      " 6   sex                334 non-null    object \n",
      "dtypes: float64(4), object(3)\n",
      "memory usage: 18.9+ KB\n"
     ]
    }
   ],
   "source": [
    "data.info()"
   ]
  },
  {
   "cell_type": "markdown",
   "id": "686546ad",
   "metadata": {},
   "source": [
    "## Exploratory Data Analysis"
   ]
  },
  {
   "cell_type": "code",
   "execution_count": 73,
   "id": "17e5e2ff",
   "metadata": {},
   "outputs": [
    {
     "data": {
      "text/plain": [
       "[Text(0.5, 0, 'Body Mass (g)'),\n",
       " Text(0, 0.5, 'Flipper Length (mm)'),\n",
       " Text(0.5, 1.0, 'Body Mass Vs Flipper Length by Species')]"
      ]
     },
     "execution_count": 73,
     "metadata": {},
     "output_type": "execute_result"
    },
    {
     "data": {
      "image/png": "[encoded data removed]",
      "text/plain": [
       "<Figure size 640x480 with 1 Axes>"
      ]
     },
     "metadata": {},
     "output_type": "display_data"
    }
   ],
   "source": [
    "\n",
    "import seaborn as sns\n",
    "plot = sns.scatterplot(x = \"body_mass_g\", y = \"flipper_length_mm\", data = data, hue = \"species\")\n",
    "plot.set(xlabel =\"Body Mass (g)\", ylabel = \"Flipper Length (mm)\", title ='Body Mass Vs Flipper Length by Species')\n",
    "\n"
   ]
  },
  {
   "cell_type": "markdown",
   "id": "d0e1c021",
   "metadata": {},
   "source": [
    "#### It can be seen that the Gentoo species are heavier than the other species with a longer Flipper Length as well."
   ]
  },
  {
   "cell_type": "code",
   "execution_count": 74,
   "id": "8b182a7a",
   "metadata": {},
   "outputs": [
    {
     "data": {
      "text/plain": [
       "[Text(0.5, 0, 'Body Mass (g)'),\n",
       " Text(0, 0.5, 'Flipper Length (mm)'),\n",
       " Text(0.5, 1.0, 'Body Mass Vs Flipper Length by Sex')]"
      ]
     },
     "execution_count": 74,
     "metadata": {},
     "output_type": "execute_result"
    },
    {
     "data": {
      "image/png": "[encoded data removed]",
      "text/plain": [
       "<Figure size 640x480 with 1 Axes>"
      ]
     },
     "metadata": {},
     "output_type": "display_data"
    }
   ],
   "source": [
    "\n",
    "import seaborn as sns\n",
    "plot = sns.scatterplot(x = \"body_mass_g\", y = \"flipper_length_mm\", data = data, hue = \"sex\")\n",
    "plot.set(xlabel =\"Body Mass (g)\", ylabel = \"Flipper Length (mm)\", title ='Body Mass Vs Flipper Length by Sex')"
   ]
  },
  {
   "cell_type": "code",
   "execution_count": 75,
   "id": "b67f7e29",
   "metadata": {},
   "outputs": [
    {
     "data": {
      "text/plain": [
       "[Text(0.5, 0, 'Body Mass (g)'),\n",
       " Text(0, 0.5, 'Culmen Depth (mm)'),\n",
       " Text(0.5, 1.0, 'Body Mass Vs Culmen Depth by Species')]"
      ]
     },
     "execution_count": 75,
     "metadata": {},
     "output_type": "execute_result"
    },
    {
     "data": {
      "image/png": "[encoded data removed]",
      "text/plain": [
       "<Figure size 640x480 with 1 Axes>"
      ]
     },
     "metadata": {},
     "output_type": "display_data"
    }
   ],
   "source": [
    "\n",
    "import seaborn as sns\n",
    "plot = sns.scatterplot(x = \"body_mass_g\", y = \"culmen_depth_mm\", data = data, hue = \"species\")\n",
    "plot.set(xlabel =\"Body Mass (g)\", ylabel = \"Culmen Depth (mm)\", title ='Body Mass Vs Culmen Depth by Species')"
   ]
  },
  {
   "cell_type": "markdown",
   "id": "8a2c4d3c",
   "metadata": {},
   "source": [
    "####  Its interesting to see that Gentoo has higher body mass compared to other species but lower Culmen Depth"
   ]
  },
  {
   "cell_type": "code",
   "execution_count": 76,
   "id": "63db58ee",
   "metadata": {
    "scrolled": true
   },
   "outputs": [
    {
     "data": {
      "text/plain": [
       "[Text(0.5, 0, 'Body Mass (g)'),\n",
       " Text(0, 0.5, 'Culmen Depth (mm)'),\n",
       " Text(0.5, 1.0, 'Body Mass Vs Culmen Depth by Sex')]"
      ]
     },
     "execution_count": 76,
     "metadata": {},
     "output_type": "execute_result"
    },
    {
     "data": {
      "image/png": "[encoded data removed]",
      "text/plain": [
       "<Figure size 640x480 with 1 Axes>"
      ]
     },
     "metadata": {},
     "output_type": "display_data"
    }
   ],
   "source": [
    "\n",
    "import seaborn as sns\n",
    "plot = sns.scatterplot(x = \"body_mass_g\", y = \"culmen_depth_mm\", data = data, hue = \"sex\")\n",
    "plot.set(xlabel =\"Body Mass (g)\", ylabel = \"Culmen Depth (mm)\", title ='Body Mass Vs Culmen Depth by Sex')"
   ]
  },
  {
   "cell_type": "code",
   "execution_count": 77,
   "id": "79098bb4",
   "metadata": {},
   "outputs": [
    {
     "data": {
      "text/plain": [
       "[Text(0.5, 0, 'Culmen Length (m)'),\n",
       " Text(0, 0.5, 'Culmen Depth (mm)'),\n",
       " Text(0.5, 1.0, 'Culmen Length Vs Culmen Depth by Species')]"
      ]
     },
     "execution_count": 77,
     "metadata": {},
     "output_type": "execute_result"
    },
    {
     "data": {
      "image/png": "[encoded data removed]",
      "text/plain": [
       "<Figure size 640x480 with 1 Axes>"
      ]
     },
     "metadata": {},
     "output_type": "display_data"
    }
   ],
   "source": [
    "import seaborn as sns\n",
    "plot = sns.scatterplot(x = \"culmen_length_mm\", y = \"culmen_depth_mm\", data = data, hue = \"species\")\n",
    "plot.set(xlabel =\"Culmen Length (m)\", ylabel = \"Culmen Depth (mm)\", title ='Culmen Length Vs Culmen Depth by Species')"
   ]
  },
  {
   "cell_type": "markdown",
   "id": "c04f4a88",
   "metadata": {},
   "source": [
    "#### The  Culmen lengths for Adelie appear to be smaller than the other two species and the Culmen depths for Gentoo appears to be smaller compared to that for Adelie and Chinstrap species"
   ]
  },
  {
   "cell_type": "code",
   "execution_count": 78,
   "id": "265e50cc",
   "metadata": {},
   "outputs": [
    {
     "data": {
      "text/plain": [
       "[Text(0.5, 0, 'Culmen Length (m)'),\n",
       " Text(0, 0.5, 'Culmen Depth (mm)'),\n",
       " Text(0.5, 1.0, 'Culmen Length Vs Culmen Depth by Sex')]"
      ]
     },
     "execution_count": 78,
     "metadata": {},
     "output_type": "execute_result"
    },
    {
     "data": {
      "image/png": "[encoded data removed]",
      "text/plain": [
       "<Figure size 640x480 with 1 Axes>"
      ]
     },
     "metadata": {},
     "output_type": "display_data"
    }
   ],
   "source": [
    "import seaborn as sns\n",
    "plot = sns.scatterplot(x = \"culmen_length_mm\", y = \"culmen_depth_mm\", data = data, hue = \"sex\")\n",
    "plot.set(xlabel =\"Culmen Length (m)\", ylabel = \"Culmen Depth (mm)\", title ='Culmen Length Vs Culmen Depth by Sex')"
   ]
  },
  {
   "cell_type": "code",
   "execution_count": null,
   "id": "49438a9d",
   "metadata": {},
   "outputs": [],
   "source": []
  },
  {
   "cell_type": "markdown",
   "id": "9bcd9e59",
   "metadata": {},
   "source": [
    "#### Culmen Depth and Body Mass for Females appear to be less than that for males"
   ]
  },
  {
   "cell_type": "markdown",
   "id": "2405a911",
   "metadata": {},
   "source": [
    "#### Dropping na's"
   ]
  },
  {
   "cell_type": "code",
   "execution_count": 79,
   "id": "bda58cc9",
   "metadata": {},
   "outputs": [
    {
     "data": {
      "text/plain": [
       "species               0\n",
       "island                0\n",
       "culmen_length_mm      2\n",
       "culmen_depth_mm       2\n",
       "flipper_length_mm     2\n",
       "body_mass_g           2\n",
       "sex                  10\n",
       "dtype: int64"
      ]
     },
     "execution_count": 79,
     "metadata": {},
     "output_type": "execute_result"
    }
   ],
   "source": [
    "data.isna().sum()"
   ]
  },
  {
   "cell_type": "code",
   "execution_count": 80,
   "id": "06ae9ffd",
   "metadata": {},
   "outputs": [],
   "source": [
    "data = data.dropna()"
   ]
  },
  {
   "cell_type": "code",
   "execution_count": 81,
   "id": "1fd8b2e5",
   "metadata": {},
   "outputs": [
    {
     "data": {
      "text/plain": [
       "species              0\n",
       "island               0\n",
       "culmen_length_mm     0\n",
       "culmen_depth_mm      0\n",
       "flipper_length_mm    0\n",
       "body_mass_g          0\n",
       "sex                  0\n",
       "dtype: int64"
      ]
     },
     "execution_count": 81,
     "metadata": {},
     "output_type": "execute_result"
    }
   ],
   "source": [
    "data.isna().sum()"
   ]
  },
  {
   "cell_type": "markdown",
   "id": "00c2fdc3",
   "metadata": {},
   "source": [
    "#### Checking if any of the categorical data columns has any other values or special characters in columns other than the categories "
   ]
  },
  {
   "cell_type": "code",
   "execution_count": 82,
   "id": "533c44b6",
   "metadata": {},
   "outputs": [
    {
     "data": {
      "text/plain": [
       "array(['MALE', 'FEMALE', '.'], dtype=object)"
      ]
     },
     "execution_count": 82,
     "metadata": {},
     "output_type": "execute_result"
    }
   ],
   "source": [
    "data.sex.unique()"
   ]
  },
  {
   "cell_type": "markdown",
   "id": "a156f92c",
   "metadata": {},
   "source": [
    "#### Columns sex has \".\" as an entry,  Removing the row with  \".\" from the sex column."
   ]
  },
  {
   "cell_type": "code",
   "execution_count": 83,
   "id": "4e44a1f7",
   "metadata": {},
   "outputs": [],
   "source": [
    "data.drop(data[(data['sex'] == \".\")].index, inplace = True)"
   ]
  },
  {
   "cell_type": "code",
   "execution_count": 84,
   "id": "3d81bb48",
   "metadata": {},
   "outputs": [
    {
     "data": {
      "text/plain": [
       "array(['MALE', 'FEMALE'], dtype=object)"
      ]
     },
     "execution_count": 84,
     "metadata": {},
     "output_type": "execute_result"
    }
   ],
   "source": [
    "data.sex.unique()"
   ]
  },
  {
   "cell_type": "code",
   "execution_count": 85,
   "id": "4aaeb9c4",
   "metadata": {},
   "outputs": [
    {
     "data": {
      "text/plain": [
       "array(['Adelie', 'Chinstrap', 'Gentoo'], dtype=object)"
      ]
     },
     "execution_count": 85,
     "metadata": {},
     "output_type": "execute_result"
    }
   ],
   "source": [
    "data.species.unique()"
   ]
  },
  {
   "cell_type": "code",
   "execution_count": 86,
   "id": "54b5131c",
   "metadata": {},
   "outputs": [
    {
     "data": {
      "text/plain": [
       "array(['Torgersen', 'Biscoe', 'Dream'], dtype=object)"
      ]
     },
     "execution_count": 86,
     "metadata": {},
     "output_type": "execute_result"
    }
   ],
   "source": [
    "data.island.unique()"
   ]
  },
  {
   "cell_type": "code",
   "execution_count": 87,
   "id": "5737e17f",
   "metadata": {},
   "outputs": [],
   "source": [
    "data = data.dropna()"
   ]
  },
  {
   "cell_type": "code",
   "execution_count": 88,
   "id": "1cf18cac",
   "metadata": {},
   "outputs": [
    {
     "name": "stdout",
     "output_type": "stream",
     "text": [
      "<class 'pandas.core.frame.DataFrame'>\n",
      "Int64Index: 333 entries, 0 to 343\n",
      "Data columns (total 7 columns):\n",
      " #   Column             Non-Null Count  Dtype  \n",
      "---  ------             --------------  -----  \n",
      " 0   species            333 non-null    object \n",
      " 1   island             333 non-null    object \n",
      " 2   culmen_length_mm   333 non-null    float64\n",
      " 3   culmen_depth_mm    333 non-null    float64\n",
      " 4   flipper_length_mm  333 non-null    float64\n",
      " 5   body_mass_g        333 non-null    float64\n",
      " 6   sex                333 non-null    object \n",
      "dtypes: float64(4), object(3)\n",
      "memory usage: 20.8+ KB\n"
     ]
    }
   ],
   "source": [
    "data.info()"
   ]
  },
  {
   "cell_type": "markdown",
   "id": "dbaa96bb",
   "metadata": {},
   "source": [
    "#### The observations were 344 before removing na's, 334 after removing na's and 333 after removing \".\""
   ]
  },
  {
   "cell_type": "code",
   "execution_count": 89,
   "id": "1123d14f",
   "metadata": {},
   "outputs": [
    {
     "data": {
      "text/html": [
       "<div>\n",
       "<style scoped>\n",
       "    .dataframe tbody tr th:only-of-type {\n",
       "        vertical-align: middle;\n",
       "    }\n",
       "\n",
       "    .dataframe tbody tr th {\n",
       "        vertical-align: top;\n",
       "    }\n",
       "\n",
       "    .dataframe thead th {\n",
       "        text-align: right;\n",
       "    }\n",
       "</style>\n",
       "<table border=\"1\" class=\"dataframe\">\n",
       "  <thead>\n",
       "    <tr style=\"text-align: right;\">\n",
       "      <th></th>\n",
       "      <th>culmen_length_mm</th>\n",
       "      <th>culmen_depth_mm</th>\n",
       "      <th>flipper_length_mm</th>\n",
       "      <th>body_mass_g</th>\n",
       "    </tr>\n",
       "  </thead>\n",
       "  <tbody>\n",
       "    <tr>\n",
       "      <th>count</th>\n",
       "      <td>333.000000</td>\n",
       "      <td>333.000000</td>\n",
       "      <td>333.000000</td>\n",
       "      <td>333.000000</td>\n",
       "    </tr>\n",
       "    <tr>\n",
       "      <th>mean</th>\n",
       "      <td>43.992793</td>\n",
       "      <td>17.164865</td>\n",
       "      <td>200.966967</td>\n",
       "      <td>4207.057057</td>\n",
       "    </tr>\n",
       "    <tr>\n",
       "      <th>std</th>\n",
       "      <td>5.468668</td>\n",
       "      <td>1.969235</td>\n",
       "      <td>14.015765</td>\n",
       "      <td>805.215802</td>\n",
       "    </tr>\n",
       "    <tr>\n",
       "      <th>min</th>\n",
       "      <td>32.100000</td>\n",
       "      <td>13.100000</td>\n",
       "      <td>172.000000</td>\n",
       "      <td>2700.000000</td>\n",
       "    </tr>\n",
       "    <tr>\n",
       "      <th>25%</th>\n",
       "      <td>39.500000</td>\n",
       "      <td>15.600000</td>\n",
       "      <td>190.000000</td>\n",
       "      <td>3550.000000</td>\n",
       "    </tr>\n",
       "    <tr>\n",
       "      <th>50%</th>\n",
       "      <td>44.500000</td>\n",
       "      <td>17.300000</td>\n",
       "      <td>197.000000</td>\n",
       "      <td>4050.000000</td>\n",
       "    </tr>\n",
       "    <tr>\n",
       "      <th>75%</th>\n",
       "      <td>48.600000</td>\n",
       "      <td>18.700000</td>\n",
       "      <td>213.000000</td>\n",
       "      <td>4775.000000</td>\n",
       "    </tr>\n",
       "    <tr>\n",
       "      <th>max</th>\n",
       "      <td>59.600000</td>\n",
       "      <td>21.500000</td>\n",
       "      <td>231.000000</td>\n",
       "      <td>6300.000000</td>\n",
       "    </tr>\n",
       "  </tbody>\n",
       "</table>\n",
       "</div>"
      ],
      "text/plain": [
       "       culmen_length_mm  culmen_depth_mm  flipper_length_mm  body_mass_g\n",
       "count        333.000000       333.000000         333.000000   333.000000\n",
       "mean          43.992793        17.164865         200.966967  4207.057057\n",
       "std            5.468668         1.969235          14.015765   805.215802\n",
       "min           32.100000        13.100000         172.000000  2700.000000\n",
       "25%           39.500000        15.600000         190.000000  3550.000000\n",
       "50%           44.500000        17.300000         197.000000  4050.000000\n",
       "75%           48.600000        18.700000         213.000000  4775.000000\n",
       "max           59.600000        21.500000         231.000000  6300.000000"
      ]
     },
     "execution_count": 89,
     "metadata": {},
     "output_type": "execute_result"
    }
   ],
   "source": [
    "data.describe()"
   ]
  },
  {
   "cell_type": "markdown",
   "id": "c4cf2011",
   "metadata": {},
   "source": [
    "#### One Hot Encoding all categorical variables (using pd.get_dummies method) except species, which is the target variable."
   ]
  },
  {
   "cell_type": "code",
   "execution_count": 90,
   "id": "ac417bf8",
   "metadata": {},
   "outputs": [
    {
     "data": {
      "text/html": [
       "<div>\n",
       "<style scoped>\n",
       "    .dataframe tbody tr th:only-of-type {\n",
       "        vertical-align: middle;\n",
       "    }\n",
       "\n",
       "    .dataframe tbody tr th {\n",
       "        vertical-align: top;\n",
       "    }\n",
       "\n",
       "    .dataframe thead th {\n",
       "        text-align: right;\n",
       "    }\n",
       "</style>\n",
       "<table border=\"1\" class=\"dataframe\">\n",
       "  <thead>\n",
       "    <tr style=\"text-align: right;\">\n",
       "      <th></th>\n",
       "      <th>Dream</th>\n",
       "      <th>Torgersen</th>\n",
       "    </tr>\n",
       "  </thead>\n",
       "  <tbody>\n",
       "    <tr>\n",
       "      <th>0</th>\n",
       "      <td>0</td>\n",
       "      <td>1</td>\n",
       "    </tr>\n",
       "    <tr>\n",
       "      <th>1</th>\n",
       "      <td>0</td>\n",
       "      <td>1</td>\n",
       "    </tr>\n",
       "    <tr>\n",
       "      <th>2</th>\n",
       "      <td>0</td>\n",
       "      <td>1</td>\n",
       "    </tr>\n",
       "    <tr>\n",
       "      <th>4</th>\n",
       "      <td>0</td>\n",
       "      <td>1</td>\n",
       "    </tr>\n",
       "    <tr>\n",
       "      <th>5</th>\n",
       "      <td>0</td>\n",
       "      <td>1</td>\n",
       "    </tr>\n",
       "  </tbody>\n",
       "</table>\n",
       "</div>"
      ],
      "text/plain": [
       "   Dream  Torgersen\n",
       "0      0          1\n",
       "1      0          1\n",
       "2      0          1\n",
       "4      0          1\n",
       "5      0          1"
      ]
     },
     "execution_count": 90,
     "metadata": {},
     "output_type": "execute_result"
    }
   ],
   "source": [
    "island = pd.get_dummies(data[\"island\"], drop_first = True)\n",
    "island.head()"
   ]
  },
  {
   "cell_type": "code",
   "execution_count": 91,
   "id": "a6abb86a",
   "metadata": {},
   "outputs": [
    {
     "data": {
      "text/html": [
       "<div>\n",
       "<style scoped>\n",
       "    .dataframe tbody tr th:only-of-type {\n",
       "        vertical-align: middle;\n",
       "    }\n",
       "\n",
       "    .dataframe tbody tr th {\n",
       "        vertical-align: top;\n",
       "    }\n",
       "\n",
       "    .dataframe thead th {\n",
       "        text-align: right;\n",
       "    }\n",
       "</style>\n",
       "<table border=\"1\" class=\"dataframe\">\n",
       "  <thead>\n",
       "    <tr style=\"text-align: right;\">\n",
       "      <th></th>\n",
       "      <th>MALE</th>\n",
       "    </tr>\n",
       "  </thead>\n",
       "  <tbody>\n",
       "    <tr>\n",
       "      <th>0</th>\n",
       "      <td>1</td>\n",
       "    </tr>\n",
       "    <tr>\n",
       "      <th>1</th>\n",
       "      <td>0</td>\n",
       "    </tr>\n",
       "    <tr>\n",
       "      <th>2</th>\n",
       "      <td>0</td>\n",
       "    </tr>\n",
       "    <tr>\n",
       "      <th>4</th>\n",
       "      <td>0</td>\n",
       "    </tr>\n",
       "    <tr>\n",
       "      <th>5</th>\n",
       "      <td>1</td>\n",
       "    </tr>\n",
       "  </tbody>\n",
       "</table>\n",
       "</div>"
      ],
      "text/plain": [
       "   MALE\n",
       "0     1\n",
       "1     0\n",
       "2     0\n",
       "4     0\n",
       "5     1"
      ]
     },
     "execution_count": 91,
     "metadata": {},
     "output_type": "execute_result"
    }
   ],
   "source": [
    "sex = pd.get_dummies(data[\"sex\"], drop_first = True)\n",
    "sex.head()"
   ]
  },
  {
   "cell_type": "markdown",
   "id": "25282284",
   "metadata": {},
   "source": [
    "#### Including the dummy columns in the dataframe and creating a new dataframe."
   ]
  },
  {
   "cell_type": "code",
   "execution_count": 92,
   "id": "7b02c2eb",
   "metadata": {},
   "outputs": [],
   "source": [
    "new_data = pd.concat([data,island,sex], axis = 1)"
   ]
  },
  {
   "cell_type": "code",
   "execution_count": 93,
   "id": "dbccf24f",
   "metadata": {},
   "outputs": [
    {
     "data": {
      "text/html": [
       "<div>\n",
       "<style scoped>\n",
       "    .dataframe tbody tr th:only-of-type {\n",
       "        vertical-align: middle;\n",
       "    }\n",
       "\n",
       "    .dataframe tbody tr th {\n",
       "        vertical-align: top;\n",
       "    }\n",
       "\n",
       "    .dataframe thead th {\n",
       "        text-align: right;\n",
       "    }\n",
       "</style>\n",
       "<table border=\"1\" class=\"dataframe\">\n",
       "  <thead>\n",
       "    <tr style=\"text-align: right;\">\n",
       "      <th></th>\n",
       "      <th>species</th>\n",
       "      <th>island</th>\n",
       "      <th>culmen_length_mm</th>\n",
       "      <th>culmen_depth_mm</th>\n",
       "      <th>flipper_length_mm</th>\n",
       "      <th>body_mass_g</th>\n",
       "      <th>sex</th>\n",
       "      <th>Dream</th>\n",
       "      <th>Torgersen</th>\n",
       "      <th>MALE</th>\n",
       "    </tr>\n",
       "  </thead>\n",
       "  <tbody>\n",
       "    <tr>\n",
       "      <th>0</th>\n",
       "      <td>Adelie</td>\n",
       "      <td>Torgersen</td>\n",
       "      <td>39.1</td>\n",
       "      <td>18.7</td>\n",
       "      <td>181.0</td>\n",
       "      <td>3750.0</td>\n",
       "      <td>MALE</td>\n",
       "      <td>0</td>\n",
       "      <td>1</td>\n",
       "      <td>1</td>\n",
       "    </tr>\n",
       "    <tr>\n",
       "      <th>1</th>\n",
       "      <td>Adelie</td>\n",
       "      <td>Torgersen</td>\n",
       "      <td>39.5</td>\n",
       "      <td>17.4</td>\n",
       "      <td>186.0</td>\n",
       "      <td>3800.0</td>\n",
       "      <td>FEMALE</td>\n",
       "      <td>0</td>\n",
       "      <td>1</td>\n",
       "      <td>0</td>\n",
       "    </tr>\n",
       "    <tr>\n",
       "      <th>2</th>\n",
       "      <td>Adelie</td>\n",
       "      <td>Torgersen</td>\n",
       "      <td>40.3</td>\n",
       "      <td>18.0</td>\n",
       "      <td>195.0</td>\n",
       "      <td>3250.0</td>\n",
       "      <td>FEMALE</td>\n",
       "      <td>0</td>\n",
       "      <td>1</td>\n",
       "      <td>0</td>\n",
       "    </tr>\n",
       "    <tr>\n",
       "      <th>4</th>\n",
       "      <td>Adelie</td>\n",
       "      <td>Torgersen</td>\n",
       "      <td>36.7</td>\n",
       "      <td>19.3</td>\n",
       "      <td>193.0</td>\n",
       "      <td>3450.0</td>\n",
       "      <td>FEMALE</td>\n",
       "      <td>0</td>\n",
       "      <td>1</td>\n",
       "      <td>0</td>\n",
       "    </tr>\n",
       "    <tr>\n",
       "      <th>5</th>\n",
       "      <td>Adelie</td>\n",
       "      <td>Torgersen</td>\n",
       "      <td>39.3</td>\n",
       "      <td>20.6</td>\n",
       "      <td>190.0</td>\n",
       "      <td>3650.0</td>\n",
       "      <td>MALE</td>\n",
       "      <td>0</td>\n",
       "      <td>1</td>\n",
       "      <td>1</td>\n",
       "    </tr>\n",
       "  </tbody>\n",
       "</table>\n",
       "</div>"
      ],
      "text/plain": [
       "  species     island  culmen_length_mm  culmen_depth_mm  flipper_length_mm  \\\n",
       "0  Adelie  Torgersen              39.1             18.7              181.0   \n",
       "1  Adelie  Torgersen              39.5             17.4              186.0   \n",
       "2  Adelie  Torgersen              40.3             18.0              195.0   \n",
       "4  Adelie  Torgersen              36.7             19.3              193.0   \n",
       "5  Adelie  Torgersen              39.3             20.6              190.0   \n",
       "\n",
       "   body_mass_g     sex  Dream  Torgersen  MALE  \n",
       "0       3750.0    MALE      0          1     1  \n",
       "1       3800.0  FEMALE      0          1     0  \n",
       "2       3250.0  FEMALE      0          1     0  \n",
       "4       3450.0  FEMALE      0          1     0  \n",
       "5       3650.0    MALE      0          1     1  "
      ]
     },
     "execution_count": 93,
     "metadata": {},
     "output_type": "execute_result"
    }
   ],
   "source": [
    "new_data.head()"
   ]
  },
  {
   "cell_type": "markdown",
   "id": "68596769",
   "metadata": {},
   "source": [
    "#### Now we can remove the island and sex columns as we have the dummies. We did not get dummies for Species as we wanted to retain that column. We will later assign numerical values to it using map function. Removing island and sex columns as below."
   ]
  },
  {
   "cell_type": "code",
   "execution_count": 94,
   "id": "c0673235",
   "metadata": {},
   "outputs": [],
   "source": [
    "new_data.drop(['sex', 'island'], axis = 1, inplace = True)"
   ]
  },
  {
   "cell_type": "code",
   "execution_count": 95,
   "id": "797b7512",
   "metadata": {},
   "outputs": [
    {
     "data": {
      "text/html": [
       "<div>\n",
       "<style scoped>\n",
       "    .dataframe tbody tr th:only-of-type {\n",
       "        vertical-align: middle;\n",
       "    }\n",
       "\n",
       "    .dataframe tbody tr th {\n",
       "        vertical-align: top;\n",
       "    }\n",
       "\n",
       "    .dataframe thead th {\n",
       "        text-align: right;\n",
       "    }\n",
       "</style>\n",
       "<table border=\"1\" class=\"dataframe\">\n",
       "  <thead>\n",
       "    <tr style=\"text-align: right;\">\n",
       "      <th></th>\n",
       "      <th>species</th>\n",
       "      <th>culmen_length_mm</th>\n",
       "      <th>culmen_depth_mm</th>\n",
       "      <th>flipper_length_mm</th>\n",
       "      <th>body_mass_g</th>\n",
       "      <th>Dream</th>\n",
       "      <th>Torgersen</th>\n",
       "      <th>MALE</th>\n",
       "    </tr>\n",
       "  </thead>\n",
       "  <tbody>\n",
       "    <tr>\n",
       "      <th>0</th>\n",
       "      <td>Adelie</td>\n",
       "      <td>39.1</td>\n",
       "      <td>18.7</td>\n",
       "      <td>181.0</td>\n",
       "      <td>3750.0</td>\n",
       "      <td>0</td>\n",
       "      <td>1</td>\n",
       "      <td>1</td>\n",
       "    </tr>\n",
       "    <tr>\n",
       "      <th>1</th>\n",
       "      <td>Adelie</td>\n",
       "      <td>39.5</td>\n",
       "      <td>17.4</td>\n",
       "      <td>186.0</td>\n",
       "      <td>3800.0</td>\n",
       "      <td>0</td>\n",
       "      <td>1</td>\n",
       "      <td>0</td>\n",
       "    </tr>\n",
       "    <tr>\n",
       "      <th>2</th>\n",
       "      <td>Adelie</td>\n",
       "      <td>40.3</td>\n",
       "      <td>18.0</td>\n",
       "      <td>195.0</td>\n",
       "      <td>3250.0</td>\n",
       "      <td>0</td>\n",
       "      <td>1</td>\n",
       "      <td>0</td>\n",
       "    </tr>\n",
       "    <tr>\n",
       "      <th>4</th>\n",
       "      <td>Adelie</td>\n",
       "      <td>36.7</td>\n",
       "      <td>19.3</td>\n",
       "      <td>193.0</td>\n",
       "      <td>3450.0</td>\n",
       "      <td>0</td>\n",
       "      <td>1</td>\n",
       "      <td>0</td>\n",
       "    </tr>\n",
       "    <tr>\n",
       "      <th>5</th>\n",
       "      <td>Adelie</td>\n",
       "      <td>39.3</td>\n",
       "      <td>20.6</td>\n",
       "      <td>190.0</td>\n",
       "      <td>3650.0</td>\n",
       "      <td>0</td>\n",
       "      <td>1</td>\n",
       "      <td>1</td>\n",
       "    </tr>\n",
       "  </tbody>\n",
       "</table>\n",
       "</div>"
      ],
      "text/plain": [
       "  species  culmen_length_mm  culmen_depth_mm  flipper_length_mm  body_mass_g  \\\n",
       "0  Adelie              39.1             18.7              181.0       3750.0   \n",
       "1  Adelie              39.5             17.4              186.0       3800.0   \n",
       "2  Adelie              40.3             18.0              195.0       3250.0   \n",
       "4  Adelie              36.7             19.3              193.0       3450.0   \n",
       "5  Adelie              39.3             20.6              190.0       3650.0   \n",
       "\n",
       "   Dream  Torgersen  MALE  \n",
       "0      0          1     1  \n",
       "1      0          1     0  \n",
       "2      0          1     0  \n",
       "4      0          1     0  \n",
       "5      0          1     1  "
      ]
     },
     "execution_count": 95,
     "metadata": {},
     "output_type": "execute_result"
    }
   ],
   "source": [
    "new_data.head()"
   ]
  },
  {
   "cell_type": "code",
   "execution_count": 96,
   "id": "496d4f28",
   "metadata": {},
   "outputs": [
    {
     "data": {
      "text/plain": [
       "(333, 8)"
      ]
     },
     "execution_count": 96,
     "metadata": {},
     "output_type": "execute_result"
    }
   ],
   "source": [
    "new_data.shape"
   ]
  },
  {
   "cell_type": "markdown",
   "id": "125d3af5",
   "metadata": {},
   "source": [
    "#### Assigning species as target variable and converting target variable to numeric"
   ]
  },
  {
   "cell_type": "markdown",
   "id": "b6b45cf6",
   "metadata": {},
   "source": [
    "### Randomizing"
   ]
  },
  {
   "cell_type": "code",
   "execution_count": 97,
   "id": "bfa88a49",
   "metadata": {},
   "outputs": [],
   "source": [
    "import random\n",
    "target = new_data[\"species\"]\n",
    "random.seed(12345)\n",
    "indx = random.sample(range(0, 333), 333) \n",
    "new_data_rand = new_data.iloc[indx] \n",
    "target_rand = target.iloc[indx]"
   ]
  },
  {
   "cell_type": "code",
   "execution_count": 98,
   "id": "8d380988",
   "metadata": {},
   "outputs": [
    {
     "data": {
      "text/plain": [
       "array(['Chinstrap', 'Adelie', 'Gentoo'], dtype=object)"
      ]
     },
     "execution_count": 98,
     "metadata": {},
     "output_type": "execute_result"
    }
   ],
   "source": [
    "target_rand.unique()"
   ]
  },
  {
   "cell_type": "code",
   "execution_count": 99,
   "id": "cf473353",
   "metadata": {},
   "outputs": [
    {
     "data": {
      "text/plain": [
       "array([1, 0, 2])"
      ]
     },
     "execution_count": 99,
     "metadata": {},
     "output_type": "execute_result"
    }
   ],
   "source": [
    "target_rand = target_rand.map({'Adelie' : 0, 'Chinstrap' : 1, 'Gentoo' : 2})\n",
    "target_rand.unique()"
   ]
  },
  {
   "cell_type": "markdown",
   "id": "4ca62816",
   "metadata": {},
   "source": [
    "## Decision Tree Classifier"
   ]
  },
  {
   "cell_type": "markdown",
   "id": "8f3cf6dd",
   "metadata": {},
   "source": [
    "#### Assinging target to Y, predictors to X and splitting into Train and Test in the ratio of 70:30"
   ]
  },
  {
   "cell_type": "code",
   "execution_count": 100,
   "id": "5e8010ff",
   "metadata": {},
   "outputs": [],
   "source": [
    "Y = target_rand\n",
    "X = new_data_rand.drop([\"species\"], axis = 1)"
   ]
  },
  {
   "cell_type": "code",
   "execution_count": 101,
   "id": "ceee0888",
   "metadata": {},
   "outputs": [
    {
     "data": {
      "text/html": [
       "<div>\n",
       "<style scoped>\n",
       "    .dataframe tbody tr th:only-of-type {\n",
       "        vertical-align: middle;\n",
       "    }\n",
       "\n",
       "    .dataframe tbody tr th {\n",
       "        vertical-align: top;\n",
       "    }\n",
       "\n",
       "    .dataframe thead th {\n",
       "        text-align: right;\n",
       "    }\n",
       "</style>\n",
       "<table border=\"1\" class=\"dataframe\">\n",
       "  <thead>\n",
       "    <tr style=\"text-align: right;\">\n",
       "      <th></th>\n",
       "      <th>culmen_length_mm</th>\n",
       "      <th>culmen_depth_mm</th>\n",
       "      <th>flipper_length_mm</th>\n",
       "      <th>body_mass_g</th>\n",
       "      <th>Dream</th>\n",
       "      <th>Torgersen</th>\n",
       "      <th>MALE</th>\n",
       "    </tr>\n",
       "  </thead>\n",
       "  <tbody>\n",
       "    <tr>\n",
       "      <th>219</th>\n",
       "      <td>50.2</td>\n",
       "      <td>18.7</td>\n",
       "      <td>198.0</td>\n",
       "      <td>3775.0</td>\n",
       "      <td>1</td>\n",
       "      <td>0</td>\n",
       "      <td>0</td>\n",
       "    </tr>\n",
       "    <tr>\n",
       "      <th>6</th>\n",
       "      <td>38.9</td>\n",
       "      <td>17.8</td>\n",
       "      <td>181.0</td>\n",
       "      <td>3625.0</td>\n",
       "      <td>0</td>\n",
       "      <td>1</td>\n",
       "      <td>0</td>\n",
       "    </tr>\n",
       "    <tr>\n",
       "      <th>158</th>\n",
       "      <td>46.1</td>\n",
       "      <td>18.2</td>\n",
       "      <td>178.0</td>\n",
       "      <td>3250.0</td>\n",
       "      <td>1</td>\n",
       "      <td>0</td>\n",
       "      <td>0</td>\n",
       "    </tr>\n",
       "    <tr>\n",
       "      <th>194</th>\n",
       "      <td>50.9</td>\n",
       "      <td>19.1</td>\n",
       "      <td>196.0</td>\n",
       "      <td>3550.0</td>\n",
       "      <td>1</td>\n",
       "      <td>0</td>\n",
       "      <td>1</td>\n",
       "    </tr>\n",
       "    <tr>\n",
       "      <th>105</th>\n",
       "      <td>39.7</td>\n",
       "      <td>18.9</td>\n",
       "      <td>184.0</td>\n",
       "      <td>3550.0</td>\n",
       "      <td>0</td>\n",
       "      <td>0</td>\n",
       "      <td>1</td>\n",
       "    </tr>\n",
       "  </tbody>\n",
       "</table>\n",
       "</div>"
      ],
      "text/plain": [
       "     culmen_length_mm  culmen_depth_mm  flipper_length_mm  body_mass_g  Dream  \\\n",
       "219              50.2             18.7              198.0       3775.0      1   \n",
       "6                38.9             17.8              181.0       3625.0      0   \n",
       "158              46.1             18.2              178.0       3250.0      1   \n",
       "194              50.9             19.1              196.0       3550.0      1   \n",
       "105              39.7             18.9              184.0       3550.0      0   \n",
       "\n",
       "     Torgersen  MALE  \n",
       "219          0     0  \n",
       "6            1     0  \n",
       "158          0     0  \n",
       "194          0     1  \n",
       "105          0     1  "
      ]
     },
     "execution_count": 101,
     "metadata": {},
     "output_type": "execute_result"
    }
   ],
   "source": [
    "X.head()"
   ]
  },
  {
   "cell_type": "code",
   "execution_count": 102,
   "id": "32a0ccb8",
   "metadata": {},
   "outputs": [],
   "source": [
    "from sklearn.model_selection import train_test_split\n",
    "Y = target_rand\n",
    "X = new_data_rand.drop([\"species\"], axis = 1)"
   ]
  },
  {
   "cell_type": "code",
   "execution_count": 103,
   "id": "50ba3228",
   "metadata": {},
   "outputs": [
    {
     "data": {
      "text/plain": [
       "0    146\n",
       "2    119\n",
       "1     68\n",
       "Name: species, dtype: int64"
      ]
     },
     "execution_count": 103,
     "metadata": {},
     "output_type": "execute_result"
    }
   ],
   "source": [
    "target_rand.value_counts()"
   ]
  },
  {
   "cell_type": "code",
   "execution_count": 104,
   "id": "bb495137",
   "metadata": {},
   "outputs": [],
   "source": [
    "X_train, X_test, Y_train, Y_test = train_test_split(X, Y, test_size = 0.30, random_state = 52)"
   ]
  },
  {
   "cell_type": "code",
   "execution_count": 105,
   "id": "cc06e37b",
   "metadata": {},
   "outputs": [
    {
     "data": {
      "text/plain": [
       "0    0.442060\n",
       "2    0.334764\n",
       "1    0.223176\n",
       "Name: species, dtype: float64"
      ]
     },
     "execution_count": 105,
     "metadata": {},
     "output_type": "execute_result"
    }
   ],
   "source": [
    "Y_train.value_counts() / Y_train.shape"
   ]
  },
  {
   "cell_type": "code",
   "execution_count": 106,
   "id": "1d7fa159",
   "metadata": {},
   "outputs": [
    {
     "data": {
      "text/plain": [
       "0    0.43\n",
       "2    0.41\n",
       "1    0.16\n",
       "Name: species, dtype: float64"
      ]
     },
     "execution_count": 106,
     "metadata": {},
     "output_type": "execute_result"
    }
   ],
   "source": [
    "Y_test.value_counts() / Y_test.shape"
   ]
  },
  {
   "cell_type": "code",
   "execution_count": 107,
   "id": "1b549e25",
   "metadata": {},
   "outputs": [],
   "source": [
    "from sklearn import tree\n",
    "from sklearn.tree import DecisionTreeClassifier"
   ]
  },
  {
   "cell_type": "code",
   "execution_count": 38,
   "id": "f181d61c",
   "metadata": {},
   "outputs": [],
   "source": [
    "model = tree.DecisionTreeClassifier()\n",
    "model = model.fit(X_train, Y_train)"
   ]
  },
  {
   "cell_type": "markdown",
   "id": "bf3a853d",
   "metadata": {},
   "source": [
    "#### Model Evaluation"
   ]
  },
  {
   "cell_type": "code",
   "execution_count": 39,
   "id": "09eb3858",
   "metadata": {},
   "outputs": [],
   "source": [
    "from sklearn.metrics import confusion_matrix\n",
    "from sklearn.metrics import accuracy_score"
   ]
  },
  {
   "cell_type": "code",
   "execution_count": 40,
   "id": "d5f7fb23",
   "metadata": {},
   "outputs": [],
   "source": [
    "Y_predict = model.predict(X_test)"
   ]
  },
  {
   "cell_type": "code",
   "execution_count": 41,
   "id": "2402537a",
   "metadata": {},
   "outputs": [
    {
     "name": "stdout",
     "output_type": "stream",
     "text": [
      "[[42  0  1]\n",
      " [ 0 16  0]\n",
      " [ 0  1 40]]\n"
     ]
    }
   ],
   "source": [
    "print(confusion_matrix(Y_test, Y_predict))"
   ]
  },
  {
   "cell_type": "code",
   "execution_count": 42,
   "id": "4a88628f",
   "metadata": {},
   "outputs": [
    {
     "name": "stdout",
     "output_type": "stream",
     "text": [
      "98.0\n"
     ]
    }
   ],
   "source": [
    "print(accuracy_score(Y_predict, Y_test)*100)"
   ]
  },
  {
   "cell_type": "markdown",
   "id": "91d5b748",
   "metadata": {},
   "source": [
    "## Random Forest Classifier"
   ]
  },
  {
   "cell_type": "code",
   "execution_count": 108,
   "id": "c389172f",
   "metadata": {},
   "outputs": [
    {
     "name": "stdout",
     "output_type": "stream",
     "text": [
      "X_train shape is :  (233, 7)\n",
      "X_test shape is :  (100, 7)\n",
      "Y_train shape is :  (233,)\n",
      "Y_test shape is :  (100,)\n"
     ]
    }
   ],
   "source": [
    "from sklearn.ensemble import RandomForestClassifier\n",
    "print(\"X_train shape is : \", X_train.shape)\n",
    "print(\"X_test shape is : \", X_test.shape)\n",
    "print(\"Y_train shape is : \", Y_train.shape)\n",
    "print(\"Y_test shape is : \", Y_test.shape)"
   ]
  },
  {
   "cell_type": "code",
   "execution_count": 109,
   "id": "87fe694f",
   "metadata": {},
   "outputs": [],
   "source": [
    "clf = RandomForestClassifier()\n",
    "model = clf.fit(X_train, Y_train)"
   ]
  },
  {
   "cell_type": "markdown",
   "id": "ec826c3a",
   "metadata": {},
   "source": [
    "#### Model Evaluation"
   ]
  },
  {
   "cell_type": "code",
   "execution_count": 110,
   "id": "f6b80325",
   "metadata": {},
   "outputs": [
    {
     "name": "stderr",
     "output_type": "stream",
     "text": [
      "/Users/pratik/opt/anaconda3/lib/python3.9/site-packages/sklearn/base.py:450: UserWarning: X does not have valid feature names, but RandomForestClassifier was fitted with feature names\n",
      "  warnings.warn(\n"
     ]
    },
    {
     "ename": "ValueError",
     "evalue": "Expected 2D array, got 1D array instead:\narray=[0. 2. 1. 2. 2. 1. 0. 1. 0. 0. 1. 2. 0. 2. 2. 1. 2. 0. 2. 2. 2. 1. 0. 2.\n 0. 1. 0. 0. 1. 0. 0. 2. 2. 2. 1. 2. 2. 2. 2. 2. 0. 0. 1. 0. 2. 0. 0. 2.\n 0. 0. 0. 1. 2. 0. 0. 0. 0. 2. 2. 2. 2. 2. 1. 2. 0. 2. 0. 2. 2. 0. 2. 2.\n 1. 0. 2. 0. 0. 2. 0. 1. 0. 2. 2. 0. 0. 0. 0. 0. 2. 1. 0. 0. 0. 2. 2. 1.\n 2. 0. 0. 0.].\nReshape your data either using array.reshape(-1, 1) if your data has a single feature or array.reshape(1, -1) if it contains a single sample.",
     "output_type": "error",
     "traceback": [
      "\u001b[0;31m---------------------------------------------------------------------------\u001b[0m",
      "\u001b[0;31mValueError\u001b[0m                                Traceback (most recent call last)",
      "\u001b[0;32m/var/folders/fp/szpx3gxd4ln849f9dbx_lqw00000gn/T/ipykernel_954/1026824110.py\u001b[0m in \u001b[0;36m<module>\u001b[0;34m\u001b[0m\n\u001b[1;32m      1\u001b[0m \u001b[0;32mfrom\u001b[0m \u001b[0msklearn\u001b[0m\u001b[0;34m.\u001b[0m\u001b[0mmetrics\u001b[0m \u001b[0;32mimport\u001b[0m \u001b[0mconfusion_matrix\u001b[0m\u001b[0;34m\u001b[0m\u001b[0;34m\u001b[0m\u001b[0m\n\u001b[1;32m      2\u001b[0m \u001b[0;32mfrom\u001b[0m \u001b[0msklearn\u001b[0m\u001b[0;34m.\u001b[0m\u001b[0mmetrics\u001b[0m \u001b[0;32mimport\u001b[0m \u001b[0maccuracy_score\u001b[0m\u001b[0;34m\u001b[0m\u001b[0;34m\u001b[0m\u001b[0m\n\u001b[0;32m----> 3\u001b[0;31m \u001b[0mY_predict\u001b[0m \u001b[0;34m=\u001b[0m \u001b[0mclf\u001b[0m\u001b[0;34m.\u001b[0m\u001b[0mpredict\u001b[0m\u001b[0;34m(\u001b[0m\u001b[0mY_test\u001b[0m\u001b[0;34m)\u001b[0m\u001b[0;34m\u001b[0m\u001b[0;34m\u001b[0m\u001b[0m\n\u001b[0m",
      "\u001b[0;32m~/opt/anaconda3/lib/python3.9/site-packages/sklearn/ensemble/_forest.py\u001b[0m in \u001b[0;36mpredict\u001b[0;34m(self, X)\u001b[0m\n\u001b[1;32m    806\u001b[0m             \u001b[0mThe\u001b[0m \u001b[0mpredicted\u001b[0m \u001b[0mclasses\u001b[0m\u001b[0;34m.\u001b[0m\u001b[0;34m\u001b[0m\u001b[0;34m\u001b[0m\u001b[0m\n\u001b[1;32m    807\u001b[0m         \"\"\"\n\u001b[0;32m--> 808\u001b[0;31m         \u001b[0mproba\u001b[0m \u001b[0;34m=\u001b[0m \u001b[0mself\u001b[0m\u001b[0;34m.\u001b[0m\u001b[0mpredict_proba\u001b[0m\u001b[0;34m(\u001b[0m\u001b[0mX\u001b[0m\u001b[0;34m)\u001b[0m\u001b[0;34m\u001b[0m\u001b[0;34m\u001b[0m\u001b[0m\n\u001b[0m\u001b[1;32m    809\u001b[0m \u001b[0;34m\u001b[0m\u001b[0m\n\u001b[1;32m    810\u001b[0m         \u001b[0;32mif\u001b[0m \u001b[0mself\u001b[0m\u001b[0;34m.\u001b[0m\u001b[0mn_outputs_\u001b[0m \u001b[0;34m==\u001b[0m \u001b[0;36m1\u001b[0m\u001b[0;34m:\u001b[0m\u001b[0;34m\u001b[0m\u001b[0;34m\u001b[0m\u001b[0m\n",
      "\u001b[0;32m~/opt/anaconda3/lib/python3.9/site-packages/sklearn/ensemble/_forest.py\u001b[0m in \u001b[0;36mpredict_proba\u001b[0;34m(self, X)\u001b[0m\n\u001b[1;32m    848\u001b[0m         \u001b[0mcheck_is_fitted\u001b[0m\u001b[0;34m(\u001b[0m\u001b[0mself\u001b[0m\u001b[0;34m)\u001b[0m\u001b[0;34m\u001b[0m\u001b[0;34m\u001b[0m\u001b[0m\n\u001b[1;32m    849\u001b[0m         \u001b[0;31m# Check data\u001b[0m\u001b[0;34m\u001b[0m\u001b[0;34m\u001b[0m\u001b[0m\n\u001b[0;32m--> 850\u001b[0;31m         \u001b[0mX\u001b[0m \u001b[0;34m=\u001b[0m \u001b[0mself\u001b[0m\u001b[0;34m.\u001b[0m\u001b[0m_validate_X_predict\u001b[0m\u001b[0;34m(\u001b[0m\u001b[0mX\u001b[0m\u001b[0;34m)\u001b[0m\u001b[0;34m\u001b[0m\u001b[0;34m\u001b[0m\u001b[0m\n\u001b[0m\u001b[1;32m    851\u001b[0m \u001b[0;34m\u001b[0m\u001b[0m\n\u001b[1;32m    852\u001b[0m         \u001b[0;31m# Assign chunk of trees to jobs\u001b[0m\u001b[0;34m\u001b[0m\u001b[0;34m\u001b[0m\u001b[0m\n",
      "\u001b[0;32m~/opt/anaconda3/lib/python3.9/site-packages/sklearn/ensemble/_forest.py\u001b[0m in \u001b[0;36m_validate_X_predict\u001b[0;34m(self, X)\u001b[0m\n\u001b[1;32m    577\u001b[0m         Validate X whenever one tries to predict, apply, predict_proba.\"\"\"\n\u001b[1;32m    578\u001b[0m         \u001b[0mcheck_is_fitted\u001b[0m\u001b[0;34m(\u001b[0m\u001b[0mself\u001b[0m\u001b[0;34m)\u001b[0m\u001b[0;34m\u001b[0m\u001b[0;34m\u001b[0m\u001b[0m\n\u001b[0;32m--> 579\u001b[0;31m         \u001b[0mX\u001b[0m \u001b[0;34m=\u001b[0m \u001b[0mself\u001b[0m\u001b[0;34m.\u001b[0m\u001b[0m_validate_data\u001b[0m\u001b[0;34m(\u001b[0m\u001b[0mX\u001b[0m\u001b[0;34m,\u001b[0m \u001b[0mdtype\u001b[0m\u001b[0;34m=\u001b[0m\u001b[0mDTYPE\u001b[0m\u001b[0;34m,\u001b[0m \u001b[0maccept_sparse\u001b[0m\u001b[0;34m=\u001b[0m\u001b[0;34m\"csr\"\u001b[0m\u001b[0;34m,\u001b[0m \u001b[0mreset\u001b[0m\u001b[0;34m=\u001b[0m\u001b[0;32mFalse\u001b[0m\u001b[0;34m)\u001b[0m\u001b[0;34m\u001b[0m\u001b[0;34m\u001b[0m\u001b[0m\n\u001b[0m\u001b[1;32m    580\u001b[0m         \u001b[0;32mif\u001b[0m \u001b[0missparse\u001b[0m\u001b[0;34m(\u001b[0m\u001b[0mX\u001b[0m\u001b[0;34m)\u001b[0m \u001b[0;32mand\u001b[0m \u001b[0;34m(\u001b[0m\u001b[0mX\u001b[0m\u001b[0;34m.\u001b[0m\u001b[0mindices\u001b[0m\u001b[0;34m.\u001b[0m\u001b[0mdtype\u001b[0m \u001b[0;34m!=\u001b[0m \u001b[0mnp\u001b[0m\u001b[0;34m.\u001b[0m\u001b[0mintc\u001b[0m \u001b[0;32mor\u001b[0m \u001b[0mX\u001b[0m\u001b[0;34m.\u001b[0m\u001b[0mindptr\u001b[0m\u001b[0;34m.\u001b[0m\u001b[0mdtype\u001b[0m \u001b[0;34m!=\u001b[0m \u001b[0mnp\u001b[0m\u001b[0;34m.\u001b[0m\u001b[0mintc\u001b[0m\u001b[0;34m)\u001b[0m\u001b[0;34m:\u001b[0m\u001b[0;34m\u001b[0m\u001b[0;34m\u001b[0m\u001b[0m\n\u001b[1;32m    581\u001b[0m             \u001b[0;32mraise\u001b[0m \u001b[0mValueError\u001b[0m\u001b[0;34m(\u001b[0m\u001b[0;34m\"No support for np.int64 index based sparse matrices\"\u001b[0m\u001b[0;34m)\u001b[0m\u001b[0;34m\u001b[0m\u001b[0;34m\u001b[0m\u001b[0m\n",
      "\u001b[0;32m~/opt/anaconda3/lib/python3.9/site-packages/sklearn/base.py\u001b[0m in \u001b[0;36m_validate_data\u001b[0;34m(self, X, y, reset, validate_separately, **check_params)\u001b[0m\n\u001b[1;32m    564\u001b[0m             \u001b[0;32mraise\u001b[0m \u001b[0mValueError\u001b[0m\u001b[0;34m(\u001b[0m\u001b[0;34m\"Validation should be done on X, y or both.\"\u001b[0m\u001b[0;34m)\u001b[0m\u001b[0;34m\u001b[0m\u001b[0;34m\u001b[0m\u001b[0m\n\u001b[1;32m    565\u001b[0m         \u001b[0;32melif\u001b[0m \u001b[0;32mnot\u001b[0m \u001b[0mno_val_X\u001b[0m \u001b[0;32mand\u001b[0m \u001b[0mno_val_y\u001b[0m\u001b[0;34m:\u001b[0m\u001b[0;34m\u001b[0m\u001b[0;34m\u001b[0m\u001b[0m\n\u001b[0;32m--> 566\u001b[0;31m             \u001b[0mX\u001b[0m \u001b[0;34m=\u001b[0m \u001b[0mcheck_array\u001b[0m\u001b[0;34m(\u001b[0m\u001b[0mX\u001b[0m\u001b[0;34m,\u001b[0m \u001b[0;34m**\u001b[0m\u001b[0mcheck_params\u001b[0m\u001b[0;34m)\u001b[0m\u001b[0;34m\u001b[0m\u001b[0;34m\u001b[0m\u001b[0m\n\u001b[0m\u001b[1;32m    567\u001b[0m             \u001b[0mout\u001b[0m \u001b[0;34m=\u001b[0m \u001b[0mX\u001b[0m\u001b[0;34m\u001b[0m\u001b[0;34m\u001b[0m\u001b[0m\n\u001b[1;32m    568\u001b[0m         \u001b[0;32melif\u001b[0m \u001b[0mno_val_X\u001b[0m \u001b[0;32mand\u001b[0m \u001b[0;32mnot\u001b[0m \u001b[0mno_val_y\u001b[0m\u001b[0;34m:\u001b[0m\u001b[0;34m\u001b[0m\u001b[0;34m\u001b[0m\u001b[0m\n",
      "\u001b[0;32m~/opt/anaconda3/lib/python3.9/site-packages/sklearn/utils/validation.py\u001b[0m in \u001b[0;36mcheck_array\u001b[0;34m(array, accept_sparse, accept_large_sparse, dtype, order, copy, force_all_finite, ensure_2d, allow_nd, ensure_min_samples, ensure_min_features, estimator)\u001b[0m\n\u001b[1;32m    767\u001b[0m             \u001b[0;31m# If input is 1D raise error\u001b[0m\u001b[0;34m\u001b[0m\u001b[0;34m\u001b[0m\u001b[0m\n\u001b[1;32m    768\u001b[0m             \u001b[0;32mif\u001b[0m \u001b[0marray\u001b[0m\u001b[0;34m.\u001b[0m\u001b[0mndim\u001b[0m \u001b[0;34m==\u001b[0m \u001b[0;36m1\u001b[0m\u001b[0;34m:\u001b[0m\u001b[0;34m\u001b[0m\u001b[0;34m\u001b[0m\u001b[0m\n\u001b[0;32m--> 769\u001b[0;31m                 raise ValueError(\n\u001b[0m\u001b[1;32m    770\u001b[0m                     \u001b[0;34m\"Expected 2D array, got 1D array instead:\\narray={}.\\n\"\u001b[0m\u001b[0;34m\u001b[0m\u001b[0;34m\u001b[0m\u001b[0m\n\u001b[1;32m    771\u001b[0m                     \u001b[0;34m\"Reshape your data either using array.reshape(-1, 1) if \"\u001b[0m\u001b[0;34m\u001b[0m\u001b[0;34m\u001b[0m\u001b[0m\n",
      "\u001b[0;31mValueError\u001b[0m: Expected 2D array, got 1D array instead:\narray=[0. 2. 1. 2. 2. 1. 0. 1. 0. 0. 1. 2. 0. 2. 2. 1. 2. 0. 2. 2. 2. 1. 0. 2.\n 0. 1. 0. 0. 1. 0. 0. 2. 2. 2. 1. 2. 2. 2. 2. 2. 0. 0. 1. 0. 2. 0. 0. 2.\n 0. 0. 0. 1. 2. 0. 0. 0. 0. 2. 2. 2. 2. 2. 1. 2. 0. 2. 0. 2. 2. 0. 2. 2.\n 1. 0. 2. 0. 0. 2. 0. 1. 0. 2. 2. 0. 0. 0. 0. 0. 2. 1. 0. 0. 0. 2. 2. 1.\n 2. 0. 0. 0.].\nReshape your data either using array.reshape(-1, 1) if your data has a single feature or array.reshape(1, -1) if it contains a single sample."
     ]
    }
   ],
   "source": [
    "from sklearn.metrics import confusion_matrix\n",
    "from sklearn.metrics import accuracy_score\n",
    "Y_predict = clf.predict(Y_test)\n"
   ]
  },
  {
   "cell_type": "code",
   "execution_count": 46,
   "id": "f2742b8d",
   "metadata": {},
   "outputs": [
    {
     "name": "stdout",
     "output_type": "stream",
     "text": [
      "[[42  0  1]\n",
      " [ 0 16  0]\n",
      " [ 0  1 40]]\n"
     ]
    }
   ],
   "source": [
    "print(confusion_matrix(Y_test, Y_predict))"
   ]
  },
  {
   "cell_type": "code",
   "execution_count": 47,
   "id": "199b3062",
   "metadata": {},
   "outputs": [
    {
     "name": "stdout",
     "output_type": "stream",
     "text": [
      "98.0\n"
     ]
    }
   ],
   "source": [
    "print(accuracy_score(Y_test, Y_predict)*100)"
   ]
  },
  {
   "cell_type": "markdown",
   "id": "55407a15",
   "metadata": {},
   "source": [
    "### Importance of Features"
   ]
  },
  {
   "cell_type": "code",
   "execution_count": 111,
   "id": "04cd9125",
   "metadata": {},
   "outputs": [
    {
     "data": {
      "text/html": [
       "<div>\n",
       "<style scoped>\n",
       "    .dataframe tbody tr th:only-of-type {\n",
       "        vertical-align: middle;\n",
       "    }\n",
       "\n",
       "    .dataframe tbody tr th {\n",
       "        vertical-align: top;\n",
       "    }\n",
       "\n",
       "    .dataframe thead th {\n",
       "        text-align: right;\n",
       "    }\n",
       "</style>\n",
       "<table border=\"1\" class=\"dataframe\">\n",
       "  <thead>\n",
       "    <tr style=\"text-align: right;\">\n",
       "      <th></th>\n",
       "      <th>importance</th>\n",
       "    </tr>\n",
       "  </thead>\n",
       "  <tbody>\n",
       "    <tr>\n",
       "      <th>culmen_length_mm</th>\n",
       "      <td>0.361656</td>\n",
       "    </tr>\n",
       "    <tr>\n",
       "      <th>flipper_length_mm</th>\n",
       "      <td>0.191926</td>\n",
       "    </tr>\n",
       "    <tr>\n",
       "      <th>culmen_depth_mm</th>\n",
       "      <td>0.178203</td>\n",
       "    </tr>\n",
       "    <tr>\n",
       "      <th>body_mass_g</th>\n",
       "      <td>0.126603</td>\n",
       "    </tr>\n",
       "    <tr>\n",
       "      <th>Dream</th>\n",
       "      <td>0.108121</td>\n",
       "    </tr>\n",
       "    <tr>\n",
       "      <th>Torgersen</th>\n",
       "      <td>0.027580</td>\n",
       "    </tr>\n",
       "    <tr>\n",
       "      <th>MALE</th>\n",
       "      <td>0.005911</td>\n",
       "    </tr>\n",
       "  </tbody>\n",
       "</table>\n",
       "</div>"
      ],
      "text/plain": [
       "                   importance\n",
       "culmen_length_mm     0.361656\n",
       "flipper_length_mm    0.191926\n",
       "culmen_depth_mm      0.178203\n",
       "body_mass_g          0.126603\n",
       "Dream                0.108121\n",
       "Torgersen            0.027580\n",
       "MALE                 0.005911"
      ]
     },
     "execution_count": 111,
     "metadata": {},
     "output_type": "execute_result"
    }
   ],
   "source": [
    "import pandas as pd\n",
    "feature_importances = pd.DataFrame(clf.feature_importances_, index = X.columns, columns=['importance']).sort_values('importance', ascending=False) \n",
    "feature_importances"
   ]
  },
  {
   "cell_type": "markdown",
   "id": "65d33cce",
   "metadata": {},
   "source": [
    "#### The above results show there was no change in accuracy when we used Random Forest algorithm after first using the Decision Tree Classifier. Both showed an accuracy of 98%.  Culmen lnength, Flipper Length, and CIlmen Depth were the top three most important features in predicitng the Species of Penguins, in that order."
   ]
  },
  {
   "cell_type": "markdown",
   "id": "a8e626f6",
   "metadata": {},
   "source": [
    "## Gaussian Naive Bayes Classifier"
   ]
  },
  {
   "cell_type": "code",
   "execution_count": 49,
   "id": "7d7a635a",
   "metadata": {},
   "outputs": [
    {
     "data": {
      "text/plain": [
       "0    0.442060\n",
       "2    0.334764\n",
       "1    0.223176\n",
       "Name: species, dtype: float64"
      ]
     },
     "execution_count": 49,
     "metadata": {},
     "output_type": "execute_result"
    }
   ],
   "source": [
    "from sklearn.model_selection import train_test_split\n",
    "\n",
    "X_train, X_test, Y_train, Y_test = train_test_split(X, Y, test_size = 0.30, random_state = 52)\n",
    "Y_train.value_counts() / Y_train.shape"
   ]
  },
  {
   "cell_type": "code",
   "execution_count": 50,
   "id": "55d946ab",
   "metadata": {},
   "outputs": [
    {
     "data": {
      "text/plain": [
       "0    0.43\n",
       "2    0.41\n",
       "1    0.16\n",
       "Name: species, dtype: float64"
      ]
     },
     "execution_count": 50,
     "metadata": {},
     "output_type": "execute_result"
    }
   ],
   "source": [
    "Y_test.value_counts() / Y_test.shape"
   ]
  },
  {
   "cell_type": "code",
   "execution_count": 51,
   "id": "e9620675",
   "metadata": {},
   "outputs": [],
   "source": [
    "from sklearn.naive_bayes import GaussianNB\n",
    "gnb = GaussianNB()\n",
    "model = gnb.fit(X_train, Y_train)"
   ]
  },
  {
   "cell_type": "markdown",
   "id": "031f19a3",
   "metadata": {},
   "source": [
    "#### Model Evaluation"
   ]
  },
  {
   "cell_type": "code",
   "execution_count": 52,
   "id": "3af7d2e8",
   "metadata": {},
   "outputs": [
    {
     "name": "stdout",
     "output_type": "stream",
     "text": [
      "[[33 10  0]\n",
      " [ 0 16  0]\n",
      " [ 0  0 41]]\n"
     ]
    }
   ],
   "source": [
    "from sklearn.metrics import confusion_matrix\n",
    "from sklearn.metrics import accuracy_score\n",
    "Y_predict = model.predict(X_test)\n",
    "print(confusion_matrix(Y_test, Y_predict))"
   ]
  },
  {
   "cell_type": "code",
   "execution_count": 53,
   "id": "2831fdb4",
   "metadata": {},
   "outputs": [
    {
     "name": "stdout",
     "output_type": "stream",
     "text": [
      "90.0\n"
     ]
    }
   ],
   "source": [
    "print(accuracy_score(Y_test, Y_predict)*100)"
   ]
  },
  {
   "cell_type": "markdown",
   "id": "7b24502e",
   "metadata": {},
   "source": [
    "#### Above results show that Gaussian Naive Bayes gives us an accuracy of 90% which is less than the 98% accuracy  obtained for both the Decision Tree and Random Forest Classifiers."
   ]
  },
  {
   "cell_type": "markdown",
   "id": "d36ec3a4",
   "metadata": {},
   "source": [
    "## Support Vector Machines"
   ]
  },
  {
   "cell_type": "code",
   "execution_count": 54,
   "id": "c860a1c7",
   "metadata": {},
   "outputs": [
    {
     "data": {
      "text/html": [
       "<div>\n",
       "<style scoped>\n",
       "    .dataframe tbody tr th:only-of-type {\n",
       "        vertical-align: middle;\n",
       "    }\n",
       "\n",
       "    .dataframe tbody tr th {\n",
       "        vertical-align: top;\n",
       "    }\n",
       "\n",
       "    .dataframe thead th {\n",
       "        text-align: right;\n",
       "    }\n",
       "</style>\n",
       "<table border=\"1\" class=\"dataframe\">\n",
       "  <thead>\n",
       "    <tr style=\"text-align: right;\">\n",
       "      <th></th>\n",
       "      <th>species</th>\n",
       "      <th>culmen_length_mm</th>\n",
       "      <th>culmen_depth_mm</th>\n",
       "      <th>flipper_length_mm</th>\n",
       "      <th>body_mass_g</th>\n",
       "      <th>Dream</th>\n",
       "      <th>Torgersen</th>\n",
       "      <th>MALE</th>\n",
       "    </tr>\n",
       "  </thead>\n",
       "  <tbody>\n",
       "    <tr>\n",
       "      <th>219</th>\n",
       "      <td>Chinstrap</td>\n",
       "      <td>50.2</td>\n",
       "      <td>18.7</td>\n",
       "      <td>198.0</td>\n",
       "      <td>3775.0</td>\n",
       "      <td>1</td>\n",
       "      <td>0</td>\n",
       "      <td>0</td>\n",
       "    </tr>\n",
       "    <tr>\n",
       "      <th>6</th>\n",
       "      <td>Adelie</td>\n",
       "      <td>38.9</td>\n",
       "      <td>17.8</td>\n",
       "      <td>181.0</td>\n",
       "      <td>3625.0</td>\n",
       "      <td>0</td>\n",
       "      <td>1</td>\n",
       "      <td>0</td>\n",
       "    </tr>\n",
       "    <tr>\n",
       "      <th>158</th>\n",
       "      <td>Chinstrap</td>\n",
       "      <td>46.1</td>\n",
       "      <td>18.2</td>\n",
       "      <td>178.0</td>\n",
       "      <td>3250.0</td>\n",
       "      <td>1</td>\n",
       "      <td>0</td>\n",
       "      <td>0</td>\n",
       "    </tr>\n",
       "    <tr>\n",
       "      <th>194</th>\n",
       "      <td>Chinstrap</td>\n",
       "      <td>50.9</td>\n",
       "      <td>19.1</td>\n",
       "      <td>196.0</td>\n",
       "      <td>3550.0</td>\n",
       "      <td>1</td>\n",
       "      <td>0</td>\n",
       "      <td>1</td>\n",
       "    </tr>\n",
       "    <tr>\n",
       "      <th>105</th>\n",
       "      <td>Adelie</td>\n",
       "      <td>39.7</td>\n",
       "      <td>18.9</td>\n",
       "      <td>184.0</td>\n",
       "      <td>3550.0</td>\n",
       "      <td>0</td>\n",
       "      <td>0</td>\n",
       "      <td>1</td>\n",
       "    </tr>\n",
       "  </tbody>\n",
       "</table>\n",
       "</div>"
      ],
      "text/plain": [
       "       species  culmen_length_mm  culmen_depth_mm  flipper_length_mm  \\\n",
       "219  Chinstrap              50.2             18.7              198.0   \n",
       "6       Adelie              38.9             17.8              181.0   \n",
       "158  Chinstrap              46.1             18.2              178.0   \n",
       "194  Chinstrap              50.9             19.1              196.0   \n",
       "105     Adelie              39.7             18.9              184.0   \n",
       "\n",
       "     body_mass_g  Dream  Torgersen  MALE  \n",
       "219       3775.0      1          0     0  \n",
       "6         3625.0      0          1     0  \n",
       "158       3250.0      1          0     0  \n",
       "194       3550.0      1          0     1  \n",
       "105       3550.0      0          0     1  "
      ]
     },
     "execution_count": 54,
     "metadata": {},
     "output_type": "execute_result"
    }
   ],
   "source": [
    "new_data_rand.head()"
   ]
  },
  {
   "cell_type": "code",
   "execution_count": 55,
   "id": "ff0f6160",
   "metadata": {},
   "outputs": [],
   "source": [
    "Y = target_rand\n",
    "X = new_data_rand.drop([\"species\"], axis = 1)"
   ]
  },
  {
   "cell_type": "code",
   "execution_count": 56,
   "id": "127d5992",
   "metadata": {},
   "outputs": [
    {
     "data": {
      "text/plain": [
       "219    1\n",
       "6      0\n",
       "158    1\n",
       "194    1\n",
       "105    0\n",
       "Name: species, dtype: int64"
      ]
     },
     "execution_count": 56,
     "metadata": {},
     "output_type": "execute_result"
    }
   ],
   "source": [
    "Y.head()"
   ]
  },
  {
   "cell_type": "markdown",
   "id": "100c58e2",
   "metadata": {},
   "source": [
    "#### Normalizing the X variables"
   ]
  },
  {
   "cell_type": "code",
   "execution_count": 57,
   "id": "d53ab973",
   "metadata": {},
   "outputs": [
    {
     "name": "stdout",
     "output_type": "stream",
     "text": [
      "[[0.65818182 0.66666667 0.44067797 ... 1.         0.         0.        ]\n",
      " [0.24727273 0.55952381 0.15254237 ... 0.         1.         0.        ]\n",
      " [0.50909091 0.60714286 0.10169492 ... 1.         0.         0.        ]\n",
      " ...\n",
      " [0.41454545 0.25       0.69491525 ... 0.         0.         0.        ]\n",
      " [0.48363636 0.66666667 0.27118644 ... 1.         0.         0.        ]\n",
      " [0.16       0.58333333 0.16949153 ... 1.         0.         0.        ]]\n"
     ]
    }
   ],
   "source": [
    "from sklearn.preprocessing import MinMaxScaler\n",
    "scaler = MinMaxScaler()\n",
    "scaled = scaler.fit_transform(X)\n",
    "print(scaled)"
   ]
  },
  {
   "cell_type": "markdown",
   "id": "ff0583b0",
   "metadata": {},
   "source": [
    "#### Update new scaled X for data modelling"
   ]
  },
  {
   "cell_type": "code",
   "execution_count": 58,
   "id": "deaa288d",
   "metadata": {},
   "outputs": [],
   "source": [
    "from sklearn.model_selection import train_test_split\n",
    "Y = target_rand\n",
    "X = scaled\n",
    "X_train, X_test, Y_train, Y_test = train_test_split(X,Y,test_size = 0.3, random_state = 52)"
   ]
  },
  {
   "cell_type": "code",
   "execution_count": 59,
   "id": "d497616b",
   "metadata": {},
   "outputs": [
    {
     "data": {
      "text/plain": [
       "0    0.442060\n",
       "2    0.334764\n",
       "1    0.223176\n",
       "Name: species, dtype: float64"
      ]
     },
     "execution_count": 59,
     "metadata": {},
     "output_type": "execute_result"
    }
   ],
   "source": [
    "Y_train.value_counts() / Y_train.shape"
   ]
  },
  {
   "cell_type": "code",
   "execution_count": 60,
   "id": "92e7cc53",
   "metadata": {},
   "outputs": [
    {
     "data": {
      "text/plain": [
       "0    0.43\n",
       "2    0.41\n",
       "1    0.16\n",
       "Name: species, dtype: float64"
      ]
     },
     "execution_count": 60,
     "metadata": {},
     "output_type": "execute_result"
    }
   ],
   "source": [
    "Y_test.value_counts() / Y_test.shape"
   ]
  },
  {
   "cell_type": "code",
   "execution_count": 61,
   "id": "c1b4a90c",
   "metadata": {},
   "outputs": [
    {
     "data": {
      "text/plain": [
       "(233, 7)"
      ]
     },
     "execution_count": 61,
     "metadata": {},
     "output_type": "execute_result"
    }
   ],
   "source": [
    "X_train.shape"
   ]
  },
  {
   "cell_type": "code",
   "execution_count": 62,
   "id": "570ac61f",
   "metadata": {},
   "outputs": [
    {
     "data": {
      "text/plain": [
       "(233,)"
      ]
     },
     "execution_count": 62,
     "metadata": {},
     "output_type": "execute_result"
    }
   ],
   "source": [
    "Y_train.shape"
   ]
  },
  {
   "cell_type": "code",
   "execution_count": 63,
   "id": "affc1408",
   "metadata": {},
   "outputs": [
    {
     "data": {
      "text/plain": [
       "(100, 7)"
      ]
     },
     "execution_count": 63,
     "metadata": {},
     "output_type": "execute_result"
    }
   ],
   "source": [
    "X_test.shape"
   ]
  },
  {
   "cell_type": "code",
   "execution_count": 64,
   "id": "61583133",
   "metadata": {},
   "outputs": [
    {
     "data": {
      "text/plain": [
       "(100,)"
      ]
     },
     "execution_count": 64,
     "metadata": {},
     "output_type": "execute_result"
    }
   ],
   "source": [
    "Y_test.shape"
   ]
  },
  {
   "cell_type": "markdown",
   "id": "dae9cc93",
   "metadata": {},
   "source": [
    "### Designing the model"
   ]
  },
  {
   "cell_type": "code",
   "execution_count": 65,
   "id": "f2b011de",
   "metadata": {},
   "outputs": [],
   "source": [
    "from sklearn import svm\n",
    "clf = svm.SVC(kernel = \"linear\")\n",
    "model = clf.fit(X_train, Y_train)"
   ]
  },
  {
   "cell_type": "code",
   "execution_count": 66,
   "id": "4fdbfa33",
   "metadata": {},
   "outputs": [],
   "source": [
    "Y_predict = model.predict(X_test)"
   ]
  },
  {
   "cell_type": "markdown",
   "id": "69cfaea0",
   "metadata": {},
   "source": [
    "#### Model Evaluation"
   ]
  },
  {
   "cell_type": "code",
   "execution_count": 67,
   "id": "d43a8f33",
   "metadata": {},
   "outputs": [
    {
     "name": "stdout",
     "output_type": "stream",
     "text": [
      "[[43  0  0]\n",
      " [ 0 16  0]\n",
      " [ 0  0 41]]\n"
     ]
    }
   ],
   "source": [
    "from sklearn.metrics import confusion_matrix\n",
    "from sklearn.metrics import accuracy_score\n",
    "print(confusion_matrix(Y_test, Y_predict))"
   ]
  },
  {
   "cell_type": "code",
   "execution_count": 68,
   "id": "003b6239",
   "metadata": {},
   "outputs": [
    {
     "name": "stdout",
     "output_type": "stream",
     "text": [
      "100.0\n"
     ]
    }
   ],
   "source": [
    "print(accuracy_score(Y_test, Y_predict)*100)"
   ]
  },
  {
   "cell_type": "markdown",
   "id": "6bd314aa",
   "metadata": {},
   "source": [
    "#### We get an accracy of 100% using the Linear Kernel. This model correctly classified all the Species of Penguins."
   ]
  },
  {
   "cell_type": "markdown",
   "id": "52bdb402",
   "metadata": {},
   "source": [
    "### Using RBF Kernel"
   ]
  },
  {
   "cell_type": "code",
   "execution_count": 69,
   "id": "d2a64ed5",
   "metadata": {},
   "outputs": [
    {
     "name": "stdout",
     "output_type": "stream",
     "text": [
      "[[43  0  0]\n",
      " [ 0 16  0]\n",
      " [ 0  0 41]]\n"
     ]
    }
   ],
   "source": [
    "clf = svm.SVC(kernel='rbf', degree = 8) \n",
    "model = clf.fit(X_train, Y_train) \n",
    "Y_predict = model.predict(X_test) \n",
    "print(confusion_matrix(Y_test, Y_predict))"
   ]
  },
  {
   "cell_type": "code",
   "execution_count": 70,
   "id": "c071d90c",
   "metadata": {},
   "outputs": [
    {
     "name": "stdout",
     "output_type": "stream",
     "text": [
      "100.0\n"
     ]
    }
   ],
   "source": [
    "print(accuracy_score(Y_test, Y_predict)*100)"
   ]
  },
  {
   "cell_type": "markdown",
   "id": "2614f59d",
   "metadata": {},
   "source": [
    "### Using polynomial Kernel"
   ]
  },
  {
   "cell_type": "code",
   "execution_count": 71,
   "id": "f3c6b866",
   "metadata": {},
   "outputs": [
    {
     "name": "stdout",
     "output_type": "stream",
     "text": [
      "[[43  0  0]\n",
      " [ 1 15  0]\n",
      " [ 0  0 41]]\n"
     ]
    }
   ],
   "source": [
    "clf = svm.SVC(kernel='poly', gamma =0.3) \n",
    "model = clf.fit(X_train, Y_train) \n",
    "Y_predict = model.predict(X_test) \n",
    "print(confusion_matrix(Y_test, Y_predict))"
   ]
  },
  {
   "cell_type": "code",
   "execution_count": 72,
   "id": "c11b7724",
   "metadata": {
    "scrolled": true
   },
   "outputs": [
    {
     "name": "stdout",
     "output_type": "stream",
     "text": [
      "99.0\n"
     ]
    }
   ],
   "source": [
    "print(accuracy_score(Y_test, Y_predict)*100)"
   ]
  },
  {
   "cell_type": "markdown",
   "id": "91759476",
   "metadata": {},
   "source": [
    "#### As seen above, we got an accuracy of 100%  with the Linear kerneal and RBF kernel(Non-Linear) for Support Vector Machine classifiers  and 99% for the Polynomial kernel(Non-Linear)."
   ]
  },
  {
   "cell_type": "markdown",
   "id": "4725f48f",
   "metadata": {},
   "source": [
    "\n",
    "#### We used Decision Tree, Random Forest, Gaussiand Naive Bayes and Support Vector Machine models for predicting the species of penguins. Out of the three models used, two models gave an accuracy of 98% with the exception of  Gaussian Naive bayes which predicted the species with a lower accuracy ay 90%, compared to the other three models. Support Vector Machines gave an accuracy of 100% for the Linear an dRBF kernel and 99% when using the polynomial kernel."
   ]
  },
  {
   "cell_type": "markdown",
   "id": "9c315a16",
   "metadata": {},
   "source": [
    "## Unsupervised: Clustering using the K-means algorithm"
   ]
  },
  {
   "cell_type": "code",
   "execution_count": 73,
   "id": "5efae0a2",
   "metadata": {},
   "outputs": [
    {
     "data": {
      "text/html": [
       "<div>\n",
       "<style scoped>\n",
       "    .dataframe tbody tr th:only-of-type {\n",
       "        vertical-align: middle;\n",
       "    }\n",
       "\n",
       "    .dataframe tbody tr th {\n",
       "        vertical-align: top;\n",
       "    }\n",
       "\n",
       "    .dataframe thead th {\n",
       "        text-align: right;\n",
       "    }\n",
       "</style>\n",
       "<table border=\"1\" class=\"dataframe\">\n",
       "  <thead>\n",
       "    <tr style=\"text-align: right;\">\n",
       "      <th></th>\n",
       "      <th>species</th>\n",
       "      <th>culmen_length_mm</th>\n",
       "      <th>culmen_depth_mm</th>\n",
       "      <th>flipper_length_mm</th>\n",
       "      <th>body_mass_g</th>\n",
       "      <th>Dream</th>\n",
       "      <th>Torgersen</th>\n",
       "      <th>MALE</th>\n",
       "    </tr>\n",
       "  </thead>\n",
       "  <tbody>\n",
       "    <tr>\n",
       "      <th>219</th>\n",
       "      <td>Chinstrap</td>\n",
       "      <td>50.2</td>\n",
       "      <td>18.7</td>\n",
       "      <td>198.0</td>\n",
       "      <td>3775.0</td>\n",
       "      <td>1</td>\n",
       "      <td>0</td>\n",
       "      <td>0</td>\n",
       "    </tr>\n",
       "    <tr>\n",
       "      <th>6</th>\n",
       "      <td>Adelie</td>\n",
       "      <td>38.9</td>\n",
       "      <td>17.8</td>\n",
       "      <td>181.0</td>\n",
       "      <td>3625.0</td>\n",
       "      <td>0</td>\n",
       "      <td>1</td>\n",
       "      <td>0</td>\n",
       "    </tr>\n",
       "    <tr>\n",
       "      <th>158</th>\n",
       "      <td>Chinstrap</td>\n",
       "      <td>46.1</td>\n",
       "      <td>18.2</td>\n",
       "      <td>178.0</td>\n",
       "      <td>3250.0</td>\n",
       "      <td>1</td>\n",
       "      <td>0</td>\n",
       "      <td>0</td>\n",
       "    </tr>\n",
       "    <tr>\n",
       "      <th>194</th>\n",
       "      <td>Chinstrap</td>\n",
       "      <td>50.9</td>\n",
       "      <td>19.1</td>\n",
       "      <td>196.0</td>\n",
       "      <td>3550.0</td>\n",
       "      <td>1</td>\n",
       "      <td>0</td>\n",
       "      <td>1</td>\n",
       "    </tr>\n",
       "    <tr>\n",
       "      <th>105</th>\n",
       "      <td>Adelie</td>\n",
       "      <td>39.7</td>\n",
       "      <td>18.9</td>\n",
       "      <td>184.0</td>\n",
       "      <td>3550.0</td>\n",
       "      <td>0</td>\n",
       "      <td>0</td>\n",
       "      <td>1</td>\n",
       "    </tr>\n",
       "  </tbody>\n",
       "</table>\n",
       "</div>"
      ],
      "text/plain": [
       "       species  culmen_length_mm  culmen_depth_mm  flipper_length_mm  \\\n",
       "219  Chinstrap              50.2             18.7              198.0   \n",
       "6       Adelie              38.9             17.8              181.0   \n",
       "158  Chinstrap              46.1             18.2              178.0   \n",
       "194  Chinstrap              50.9             19.1              196.0   \n",
       "105     Adelie              39.7             18.9              184.0   \n",
       "\n",
       "     body_mass_g  Dream  Torgersen  MALE  \n",
       "219       3775.0      1          0     0  \n",
       "6         3625.0      0          1     0  \n",
       "158       3250.0      1          0     0  \n",
       "194       3550.0      1          0     1  \n",
       "105       3550.0      0          0     1  "
      ]
     },
     "execution_count": 73,
     "metadata": {},
     "output_type": "execute_result"
    }
   ],
   "source": [
    "new_data_rand.head()"
   ]
  },
  {
   "cell_type": "markdown",
   "id": "261fd392",
   "metadata": {},
   "source": [
    "#### Normalizing"
   ]
  },
  {
   "cell_type": "code",
   "execution_count": 75,
   "id": "16ad645c",
   "metadata": {},
   "outputs": [
    {
     "data": {
      "text/html": [
       "<div>\n",
       "<style scoped>\n",
       "    .dataframe tbody tr th:only-of-type {\n",
       "        vertical-align: middle;\n",
       "    }\n",
       "\n",
       "    .dataframe tbody tr th {\n",
       "        vertical-align: top;\n",
       "    }\n",
       "\n",
       "    .dataframe thead th {\n",
       "        text-align: right;\n",
       "    }\n",
       "</style>\n",
       "<table border=\"1\" class=\"dataframe\">\n",
       "  <thead>\n",
       "    <tr style=\"text-align: right;\">\n",
       "      <th></th>\n",
       "      <th>culmen_length_mm</th>\n",
       "      <th>culmen_depth_mm</th>\n",
       "      <th>flipper_length_mm</th>\n",
       "      <th>body_mass_g</th>\n",
       "      <th>Dream</th>\n",
       "      <th>Torgersen</th>\n",
       "      <th>MALE</th>\n",
       "    </tr>\n",
       "  </thead>\n",
       "  <tbody>\n",
       "    <tr>\n",
       "      <th>219</th>\n",
       "      <td>50.2</td>\n",
       "      <td>18.7</td>\n",
       "      <td>198.0</td>\n",
       "      <td>3775.0</td>\n",
       "      <td>1</td>\n",
       "      <td>0</td>\n",
       "      <td>0</td>\n",
       "    </tr>\n",
       "    <tr>\n",
       "      <th>6</th>\n",
       "      <td>38.9</td>\n",
       "      <td>17.8</td>\n",
       "      <td>181.0</td>\n",
       "      <td>3625.0</td>\n",
       "      <td>0</td>\n",
       "      <td>1</td>\n",
       "      <td>0</td>\n",
       "    </tr>\n",
       "    <tr>\n",
       "      <th>158</th>\n",
       "      <td>46.1</td>\n",
       "      <td>18.2</td>\n",
       "      <td>178.0</td>\n",
       "      <td>3250.0</td>\n",
       "      <td>1</td>\n",
       "      <td>0</td>\n",
       "      <td>0</td>\n",
       "    </tr>\n",
       "    <tr>\n",
       "      <th>194</th>\n",
       "      <td>50.9</td>\n",
       "      <td>19.1</td>\n",
       "      <td>196.0</td>\n",
       "      <td>3550.0</td>\n",
       "      <td>1</td>\n",
       "      <td>0</td>\n",
       "      <td>1</td>\n",
       "    </tr>\n",
       "    <tr>\n",
       "      <th>105</th>\n",
       "      <td>39.7</td>\n",
       "      <td>18.9</td>\n",
       "      <td>184.0</td>\n",
       "      <td>3550.0</td>\n",
       "      <td>0</td>\n",
       "      <td>0</td>\n",
       "      <td>1</td>\n",
       "    </tr>\n",
       "  </tbody>\n",
       "</table>\n",
       "</div>"
      ],
      "text/plain": [
       "     culmen_length_mm  culmen_depth_mm  flipper_length_mm  body_mass_g  Dream  \\\n",
       "219              50.2             18.7              198.0       3775.0      1   \n",
       "6                38.9             17.8              181.0       3625.0      0   \n",
       "158              46.1             18.2              178.0       3250.0      1   \n",
       "194              50.9             19.1              196.0       3550.0      1   \n",
       "105              39.7             18.9              184.0       3550.0      0   \n",
       "\n",
       "     Torgersen  MALE  \n",
       "219          0     0  \n",
       "6            1     0  \n",
       "158          0     0  \n",
       "194          0     1  \n",
       "105          0     1  "
      ]
     },
     "execution_count": 75,
     "metadata": {},
     "output_type": "execute_result"
    }
   ],
   "source": [
    "Y = target_rand\n",
    "X = new_data_rand.drop([\"species\"], axis = 1)\n",
    "X.head()"
   ]
  },
  {
   "cell_type": "code",
   "execution_count": 76,
   "id": "49426950",
   "metadata": {},
   "outputs": [
    {
     "data": {
      "text/plain": [
       "219    1\n",
       "6      0\n",
       "158    1\n",
       "194    1\n",
       "105    0\n",
       "Name: species, dtype: int64"
      ]
     },
     "execution_count": 76,
     "metadata": {},
     "output_type": "execute_result"
    }
   ],
   "source": [
    "Y.head()"
   ]
  },
  {
   "cell_type": "code",
   "execution_count": 77,
   "id": "fbfa98c0",
   "metadata": {},
   "outputs": [
    {
     "name": "stdout",
     "output_type": "stream",
     "text": [
      "[[0.65818182 0.66666667 0.44067797 ... 1.         0.         0.        ]\n",
      " [0.24727273 0.55952381 0.15254237 ... 0.         1.         0.        ]\n",
      " [0.50909091 0.60714286 0.10169492 ... 1.         0.         0.        ]\n",
      " ...\n",
      " [0.41454545 0.25       0.69491525 ... 0.         0.         0.        ]\n",
      " [0.48363636 0.66666667 0.27118644 ... 1.         0.         0.        ]\n",
      " [0.16       0.58333333 0.16949153 ... 1.         0.         0.        ]]\n"
     ]
    }
   ],
   "source": [
    "from sklearn.preprocessing import MinMaxScaler\n",
    "scaler = MinMaxScaler()\n",
    "scaled = scaler.fit_transform(X)\n",
    "print(scaled)"
   ]
  },
  {
   "cell_type": "code",
   "execution_count": 78,
   "id": "450a918d",
   "metadata": {},
   "outputs": [],
   "source": [
    "Y = target_rand\n",
    "X = scaled"
   ]
  },
  {
   "cell_type": "markdown",
   "id": "07594c29",
   "metadata": {},
   "source": [
    "#### Determining the best value of K clusters using the predictor variebles and Kmeans Clustering and random seed of 12345 .(Note: species as Y=target is maped to numeric, however species in new_data is not.)"
   ]
  },
  {
   "cell_type": "code",
   "execution_count": 79,
   "id": "bbf9edb7",
   "metadata": {},
   "outputs": [
    {
     "name": "stdout",
     "output_type": "stream",
     "text": [
      "At k=  1 The percentage of change in SSE is  99.99847719635022 %\n",
      "At k=  2 The percentage of change in SSE is  34.438660476557246 %\n",
      "At k=  3 The percentage of change in SSE is  33.20816022869925 %\n",
      "At k=  4 The percentage of change in SSE is  29.775775145226262 %\n",
      "At k=  5 The percentage of change in SSE is  40.44501333768008 %\n",
      "At k=  6 The percentage of change in SSE is  26.435420116534058 %\n",
      "At k=  7 The percentage of change in SSE is  31.25444566076953 %\n",
      "At k=  8 The percentage of change in SSE is  37.22018068641265 %\n",
      "At k=  9 The percentage of change in SSE is  17.967286903698497 %\n",
      "At k=  10 The percentage of change in SSE is  15.891489060276145 %\n",
      "At k=  11 The percentage of change in SSE is  7.297052685601946 %\n",
      "At k=  12 The percentage of change in SSE is  4.281490997278908 %\n",
      "At k=  13 The percentage of change in SSE is  3.098632216159535 %\n",
      "At k=  14 The percentage of change in SSE is  3.6327810730025667 %\n",
      "At k=  15 The percentage of change in SSE is  4.189420625521325 %\n",
      "At k=  16 The percentage of change in SSE is  2.879518781607917 %\n",
      "At k=  17 The percentage of change in SSE is  3.383907108419674 %\n",
      "At k=  18 The percentage of change in SSE is  2.3018622359209813 %\n",
      "At k=  19 The percentage of change in SSE is  3.3416461490160887 %\n"
     ]
    },
    {
     "data": {
      "image/png": "[encoded data removed]",
      "text/plain": [
       "<Figure size 640x480 with 1 Axes>"
      ]
     },
     "metadata": {},
     "output_type": "display_data"
    }
   ],
   "source": [
    "from sklearn.cluster import KMeans\n",
    "import matplotlib.pyplot as plt\n",
    "\n",
    "sse = {}\n",
    "last_sse = 17592402.70373319\n",
    "for k in range(1, 20):\n",
    "    kmeans = KMeans(n_clusters=k, random_state=12345, n_init = 25).fit(X) ## Note X is scaled\n",
    "    #print(data[\"clusters\"])\n",
    "    sse[k] = kmeans.inertia_ # Inertia: Sum of distances of samples to their closest cluster center\n",
    "    change_per = (last_sse-kmeans.inertia_)/last_sse*100\n",
    "    print ('At k= ',k,'The percentage of change in SSE is ',change_per,'%') \n",
    "    last_sse = kmeans.inertia_\n",
    "plt.figure()\n",
    "plt.plot(list(sse.keys()), list(sse.values())) \n",
    "plt.xlabel(\"Number of cluster\")\n",
    "plt.ylabel(\"SSE\")\n",
    "plt.show()"
   ]
  },
  {
   "cell_type": "markdown",
   "id": "4cee5f0d",
   "metadata": {},
   "source": [
    "#### Two elbows can be seen in the graph fromone from K =3 to K=5 and the other from k=5 to k=8 . We can say that K in this range (3 to 8) seems like a good fit as the change in percentage of sse is more compared to the values above K=8, within group error is considerably less compared to values below K=3 and the between group distance looks acceptable."
   ]
  },
  {
   "cell_type": "code",
   "execution_count": 83,
   "id": "754af94d",
   "metadata": {},
   "outputs": [
    {
     "data": {
      "text/plain": [
       "array([[ 4.40798226e-01,  6.23790166e-01,  3.59101557e-01,\n",
       "         2.83028455e-01,  1.00000000e+00,  1.94289029e-16,\n",
       "         5.04065041e-01],\n",
       "       [ 4.94614065e-01,  4.88544474e-01,  6.32235369e-01,\n",
       "         6.03446017e-01, -1.66533454e-16,  2.16981132e-01,\n",
       "         1.00000000e+00],\n",
       "       [ 3.59265734e-01,  3.13759158e-01,  5.02933507e-01,\n",
       "         3.90625000e-01, -1.66533454e-16,  2.30769231e-01,\n",
       "         5.55111512e-16]])"
      ]
     },
     "execution_count": 83,
     "metadata": {},
     "output_type": "execute_result"
    }
   ],
   "source": [
    "from sklearn.cluster import KMeans\n",
    "kmeans = KMeans(n_clusters=3, random_state=1234, n_init = 25 ).fit(X)\n",
    "kmeans.cluster_centers_"
   ]
  },
  {
   "cell_type": "code",
   "execution_count": 84,
   "id": "4c48bfa9",
   "metadata": {},
   "outputs": [
    {
     "data": {
      "text/plain": [
       "0    123\n",
       "1    106\n",
       "2    104\n",
       "dtype: int64"
      ]
     },
     "execution_count": 84,
     "metadata": {},
     "output_type": "execute_result"
    }
   ],
   "source": [
    "pd.Series(kmeans.labels_).value_counts()"
   ]
  },
  {
   "cell_type": "code",
   "execution_count": 90,
   "id": "aef43d12",
   "metadata": {},
   "outputs": [
    {
     "data": {
      "text/plain": [
       "0    146\n",
       "2    119\n",
       "1     68\n",
       "Name: species, dtype: int64"
      ]
     },
     "execution_count": 90,
     "metadata": {},
     "output_type": "execute_result"
    }
   ],
   "source": [
    "target_rand.value_counts()"
   ]
  },
  {
   "cell_type": "code",
   "execution_count": 92,
   "id": "cd0f5954",
   "metadata": {},
   "outputs": [
    {
     "name": "stdout",
     "output_type": "stream",
     "text": [
      "[[55 68  0]\n",
      " [45  0 61]\n",
      " [46  0 58]]\n"
     ]
    }
   ],
   "source": [
    "print(confusion_matrix(kmeans.labels_, target_rand))"
   ]
  },
  {
   "cell_type": "code",
   "execution_count": 93,
   "id": "c59d2a15",
   "metadata": {},
   "outputs": [
    {
     "name": "stdout",
     "output_type": "stream",
     "text": [
      "33.933933933933936\n"
     ]
    }
   ],
   "source": [
    "print(accuracy_score(kmeans.labels_, target_rand)*100)"
   ]
  },
  {
   "cell_type": "markdown",
   "id": "2017bb36",
   "metadata": {},
   "source": [
    "#### The accuracy score was found to be less when comparing the clusters obtained form K-means algorithm. One of the reasons responsilbe for some misclassifications could be that the predicted  K_means_ clusters has the species with the second highest counts labelled as 1 and the second highest counts in target_rand is labelled as 2. "
   ]
  },
  {
   "cell_type": "markdown",
   "id": "ddb7ab09",
   "metadata": {},
   "source": [
    "## Supervised: KNN Classification algorithm "
   ]
  },
  {
   "cell_type": "code",
   "execution_count": 562,
   "id": "65e640fe",
   "metadata": {},
   "outputs": [],
   "source": [
    "Y = target_rand\n",
    "X = scaled\n",
    "X_train, X_test, Y_train, Y_test = train_test_split(X,Y,test_size = 0.3, random_state = 52)"
   ]
  },
  {
   "cell_type": "markdown",
   "id": "1b1f370d",
   "metadata": {},
   "source": [
    "### KNN Classification model with K = 3"
   ]
  },
  {
   "cell_type": "code",
   "execution_count": 563,
   "id": "f8047c02",
   "metadata": {},
   "outputs": [
    {
     "name": "stderr",
     "output_type": "stream",
     "text": [
      "/Users/pratik/opt/anaconda3/lib/python3.9/site-packages/sklearn/neighbors/_classification.py:228: FutureWarning: Unlike other reduction functions (e.g. `skew`, `kurtosis`), the default behavior of `mode` typically preserves the axis it acts along. In SciPy 1.11.0, this behavior will change: the default value of `keepdims` will become False, the `axis` over which the statistic is taken will be eliminated, and the value None will no longer be accepted. Set `keepdims` to True or False to avoid this warning.\n",
      "  mode, _ = stats.mode(_y[neigh_ind, k], axis=1)\n"
     ]
    }
   ],
   "source": [
    "from sklearn.neighbors import KNeighborsClassifier \n",
    "neigh = KNeighborsClassifier(n_neighbors=3) \n",
    "model = neigh.fit(X, Y)\n",
    "Y_predict = model.predict(X_test)"
   ]
  },
  {
   "cell_type": "code",
   "execution_count": 564,
   "id": "31a8f4b9",
   "metadata": {},
   "outputs": [
    {
     "name": "stdout",
     "output_type": "stream",
     "text": [
      "[[43  0  0]\n",
      " [ 0 16  0]\n",
      " [ 0  0 41]]\n"
     ]
    }
   ],
   "source": [
    "from sklearn.metrics import confusion_matrix\n",
    "from sklearn.metrics import accuracy_score\n",
    "\n",
    "print(confusion_matrix(Y_test, Y_predict))"
   ]
  },
  {
   "cell_type": "code",
   "execution_count": 565,
   "id": "2a0944d8",
   "metadata": {},
   "outputs": [
    {
     "name": "stdout",
     "output_type": "stream",
     "text": [
      "100.0\n"
     ]
    }
   ],
   "source": [
    "print(accuracy_score(Y_test, Y_predict)*100)"
   ]
  },
  {
   "cell_type": "markdown",
   "id": "f73c05a4",
   "metadata": {},
   "source": [
    "#### We get an accuracy of 100 % with K=3 "
   ]
  },
  {
   "cell_type": "markdown",
   "id": "9e68262d",
   "metadata": {},
   "source": [
    "### Model with K=5"
   ]
  },
  {
   "cell_type": "markdown",
   "id": "0a89906f",
   "metadata": {},
   "source": [
    "neigh = KNeighborsClassifier(n_neighbors=5) \n",
    "model = neigh.fit(X, Y)\n",
    "Y_predict = model.predict(X_test)\n",
    "print(confusion_matrix(Y_test, Y_predict))"
   ]
  },
  {
   "cell_type": "code",
   "execution_count": 567,
   "id": "90c9cdaf",
   "metadata": {},
   "outputs": [
    {
     "data": {
      "text/plain": [
       "array([0, 2, 1, 2, 2, 1, 0, 1, 0, 0, 1, 2, 0, 2, 2, 1, 2, 0, 2, 2, 2, 1,\n",
       "       0, 2, 0, 1, 0, 0, 1, 0, 0, 2, 2, 2, 1, 2, 2, 2, 2, 2, 0, 0, 1, 0,\n",
       "       2, 0, 0, 2, 0, 0, 0, 1, 2, 0, 0, 0, 0, 2, 2, 2, 2, 2, 1, 2, 0, 2,\n",
       "       0, 2, 2, 0, 2, 2, 1, 0, 2, 0, 0, 2, 0, 1, 0, 2, 2, 0, 0, 0, 0, 0,\n",
       "       2, 1, 0, 0, 0, 2, 2, 1, 2, 0, 0, 0])"
      ]
     },
     "execution_count": 567,
     "metadata": {},
     "output_type": "execute_result"
    }
   ],
   "source": [
    "Y_predict"
   ]
  },
  {
   "cell_type": "code",
   "execution_count": 568,
   "id": "04c429c6",
   "metadata": {},
   "outputs": [
    {
     "name": "stdout",
     "output_type": "stream",
     "text": [
      "100.0\n"
     ]
    }
   ],
   "source": [
    "print(accuracy_score(Y_test, Y_predict)*100)"
   ]
  },
  {
   "cell_type": "markdown",
   "id": "7fbef116",
   "metadata": {},
   "source": [
    "## Model with K = 8 "
   ]
  },
  {
   "cell_type": "code",
   "execution_count": 569,
   "id": "d618370a",
   "metadata": {},
   "outputs": [
    {
     "name": "stdout",
     "output_type": "stream",
     "text": [
      "[[43  0  0]\n",
      " [ 0 16  0]\n",
      " [ 0  0 41]]\n"
     ]
    },
    {
     "name": "stderr",
     "output_type": "stream",
     "text": [
      "/Users/pratik/opt/anaconda3/lib/python3.9/site-packages/sklearn/neighbors/_classification.py:228: FutureWarning: Unlike other reduction functions (e.g. `skew`, `kurtosis`), the default behavior of `mode` typically preserves the axis it acts along. In SciPy 1.11.0, this behavior will change: the default value of `keepdims` will become False, the `axis` over which the statistic is taken will be eliminated, and the value None will no longer be accepted. Set `keepdims` to True or False to avoid this warning.\n",
      "  mode, _ = stats.mode(_y[neigh_ind, k], axis=1)\n"
     ]
    }
   ],
   "source": [
    "neigh = KNeighborsClassifier(n_neighbors=8) \n",
    "model = neigh.fit(X, Y)\n",
    "Y_predict = model.predict(X_test)\n",
    "print(confusion_matrix(Y_test, Y_predict))"
   ]
  },
  {
   "cell_type": "code",
   "execution_count": 570,
   "id": "5af83422",
   "metadata": {},
   "outputs": [
    {
     "name": "stdout",
     "output_type": "stream",
     "text": [
      "100.0\n"
     ]
    }
   ],
   "source": [
    "print(accuracy_score(Y_test, Y_predict)*100)"
   ]
  },
  {
   "cell_type": "markdown",
   "id": "3ed083c5",
   "metadata": {},
   "source": [
    "#### All values of K used gave an accuracy of 100% in predicitng the Species of the Penguins."
   ]
  },
  {
   "cell_type": "markdown",
   "id": "36cea918",
   "metadata": {},
   "source": [
    "### Model I: Conclusion"
   ]
  },
  {
   "cell_type": "markdown",
   "id": "303e55b2",
   "metadata": {},
   "source": [
    "#### For predicting the Species of the penguins, both the KNN algorithm and  Support Vector Machines (Linear and RBF) gave the maximum accuracy at 100% followed by the Polynomial Kernel SVM at 99%. The Random Forest and Decision Tree Classifiers both predcited with  an accuracy both at 97% and the Gaussian Naive bayes gave us the least accuracy at 90%. Random Forest predicted  Culmen lnength, Flipper Length, and CuImen Depth as the top three important features in predicting the Species, in that order."
   ]
  },
  {
   "cell_type": "markdown",
   "id": "dc8d2ba4",
   "metadata": {},
   "source": [
    "## Model II:  Predicting the sex of Penguins"
   ]
  },
  {
   "cell_type": "code",
   "execution_count": 129,
   "id": "4221d720",
   "metadata": {},
   "outputs": [
    {
     "data": {
      "text/html": [
       "<div>\n",
       "<style scoped>\n",
       "    .dataframe tbody tr th:only-of-type {\n",
       "        vertical-align: middle;\n",
       "    }\n",
       "\n",
       "    .dataframe tbody tr th {\n",
       "        vertical-align: top;\n",
       "    }\n",
       "\n",
       "    .dataframe thead th {\n",
       "        text-align: right;\n",
       "    }\n",
       "</style>\n",
       "<table border=\"1\" class=\"dataframe\">\n",
       "  <thead>\n",
       "    <tr style=\"text-align: right;\">\n",
       "      <th></th>\n",
       "      <th>species</th>\n",
       "      <th>island</th>\n",
       "      <th>culmen_length_mm</th>\n",
       "      <th>culmen_depth_mm</th>\n",
       "      <th>flipper_length_mm</th>\n",
       "      <th>body_mass_g</th>\n",
       "      <th>sex</th>\n",
       "    </tr>\n",
       "  </thead>\n",
       "  <tbody>\n",
       "    <tr>\n",
       "      <th>0</th>\n",
       "      <td>Adelie</td>\n",
       "      <td>Torgersen</td>\n",
       "      <td>39.1</td>\n",
       "      <td>18.7</td>\n",
       "      <td>181.0</td>\n",
       "      <td>3750.0</td>\n",
       "      <td>MALE</td>\n",
       "    </tr>\n",
       "    <tr>\n",
       "      <th>1</th>\n",
       "      <td>Adelie</td>\n",
       "      <td>Torgersen</td>\n",
       "      <td>39.5</td>\n",
       "      <td>17.4</td>\n",
       "      <td>186.0</td>\n",
       "      <td>3800.0</td>\n",
       "      <td>FEMALE</td>\n",
       "    </tr>\n",
       "    <tr>\n",
       "      <th>2</th>\n",
       "      <td>Adelie</td>\n",
       "      <td>Torgersen</td>\n",
       "      <td>40.3</td>\n",
       "      <td>18.0</td>\n",
       "      <td>195.0</td>\n",
       "      <td>3250.0</td>\n",
       "      <td>FEMALE</td>\n",
       "    </tr>\n",
       "    <tr>\n",
       "      <th>4</th>\n",
       "      <td>Adelie</td>\n",
       "      <td>Torgersen</td>\n",
       "      <td>36.7</td>\n",
       "      <td>19.3</td>\n",
       "      <td>193.0</td>\n",
       "      <td>3450.0</td>\n",
       "      <td>FEMALE</td>\n",
       "    </tr>\n",
       "    <tr>\n",
       "      <th>5</th>\n",
       "      <td>Adelie</td>\n",
       "      <td>Torgersen</td>\n",
       "      <td>39.3</td>\n",
       "      <td>20.6</td>\n",
       "      <td>190.0</td>\n",
       "      <td>3650.0</td>\n",
       "      <td>MALE</td>\n",
       "    </tr>\n",
       "  </tbody>\n",
       "</table>\n",
       "</div>"
      ],
      "text/plain": [
       "  species     island  culmen_length_mm  culmen_depth_mm  flipper_length_mm  \\\n",
       "0  Adelie  Torgersen              39.1             18.7              181.0   \n",
       "1  Adelie  Torgersen              39.5             17.4              186.0   \n",
       "2  Adelie  Torgersen              40.3             18.0              195.0   \n",
       "4  Adelie  Torgersen              36.7             19.3              193.0   \n",
       "5  Adelie  Torgersen              39.3             20.6              190.0   \n",
       "\n",
       "   body_mass_g     sex  \n",
       "0       3750.0    MALE  \n",
       "1       3800.0  FEMALE  \n",
       "2       3250.0  FEMALE  \n",
       "4       3450.0  FEMALE  \n",
       "5       3650.0    MALE  "
      ]
     },
     "execution_count": 129,
     "metadata": {},
     "output_type": "execute_result"
    }
   ],
   "source": [
    "data.head()"
   ]
  },
  {
   "cell_type": "code",
   "execution_count": 130,
   "id": "812b2941",
   "metadata": {},
   "outputs": [
    {
     "data": {
      "text/plain": [
       "species              0\n",
       "island               0\n",
       "culmen_length_mm     0\n",
       "culmen_depth_mm      0\n",
       "flipper_length_mm    0\n",
       "body_mass_g          0\n",
       "sex                  0\n",
       "dtype: int64"
      ]
     },
     "execution_count": 130,
     "metadata": {},
     "output_type": "execute_result"
    }
   ],
   "source": [
    "data.isna().sum()"
   ]
  },
  {
   "cell_type": "markdown",
   "id": "7bbcfab1",
   "metadata": {},
   "source": [
    "#### One Hot Encoding Species and Island. not encoding Sex as we need to retain the column in dataframe for analysis"
   ]
  },
  {
   "cell_type": "code",
   "execution_count": 131,
   "id": "9c4d0c95",
   "metadata": {},
   "outputs": [
    {
     "data": {
      "text/html": [
       "<div>\n",
       "<style scoped>\n",
       "    .dataframe tbody tr th:only-of-type {\n",
       "        vertical-align: middle;\n",
       "    }\n",
       "\n",
       "    .dataframe tbody tr th {\n",
       "        vertical-align: top;\n",
       "    }\n",
       "\n",
       "    .dataframe thead th {\n",
       "        text-align: right;\n",
       "    }\n",
       "</style>\n",
       "<table border=\"1\" class=\"dataframe\">\n",
       "  <thead>\n",
       "    <tr style=\"text-align: right;\">\n",
       "      <th></th>\n",
       "      <th>Dream</th>\n",
       "      <th>Torgersen</th>\n",
       "    </tr>\n",
       "  </thead>\n",
       "  <tbody>\n",
       "    <tr>\n",
       "      <th>0</th>\n",
       "      <td>0</td>\n",
       "      <td>1</td>\n",
       "    </tr>\n",
       "    <tr>\n",
       "      <th>1</th>\n",
       "      <td>0</td>\n",
       "      <td>1</td>\n",
       "    </tr>\n",
       "    <tr>\n",
       "      <th>2</th>\n",
       "      <td>0</td>\n",
       "      <td>1</td>\n",
       "    </tr>\n",
       "    <tr>\n",
       "      <th>4</th>\n",
       "      <td>0</td>\n",
       "      <td>1</td>\n",
       "    </tr>\n",
       "    <tr>\n",
       "      <th>5</th>\n",
       "      <td>0</td>\n",
       "      <td>1</td>\n",
       "    </tr>\n",
       "  </tbody>\n",
       "</table>\n",
       "</div>"
      ],
      "text/plain": [
       "   Dream  Torgersen\n",
       "0      0          1\n",
       "1      0          1\n",
       "2      0          1\n",
       "4      0          1\n",
       "5      0          1"
      ]
     },
     "execution_count": 131,
     "metadata": {},
     "output_type": "execute_result"
    }
   ],
   "source": [
    "island = pd.get_dummies(data[\"island\"], drop_first = True)\n",
    "species = pd.get_dummies(data[\"species\"], drop_first = True)\n",
    "island.head()"
   ]
  },
  {
   "cell_type": "code",
   "execution_count": 132,
   "id": "21ab596b",
   "metadata": {},
   "outputs": [
    {
     "data": {
      "text/html": [
       "<div>\n",
       "<style scoped>\n",
       "    .dataframe tbody tr th:only-of-type {\n",
       "        vertical-align: middle;\n",
       "    }\n",
       "\n",
       "    .dataframe tbody tr th {\n",
       "        vertical-align: top;\n",
       "    }\n",
       "\n",
       "    .dataframe thead th {\n",
       "        text-align: right;\n",
       "    }\n",
       "</style>\n",
       "<table border=\"1\" class=\"dataframe\">\n",
       "  <thead>\n",
       "    <tr style=\"text-align: right;\">\n",
       "      <th></th>\n",
       "      <th>Chinstrap</th>\n",
       "      <th>Gentoo</th>\n",
       "    </tr>\n",
       "  </thead>\n",
       "  <tbody>\n",
       "    <tr>\n",
       "      <th>0</th>\n",
       "      <td>0</td>\n",
       "      <td>0</td>\n",
       "    </tr>\n",
       "    <tr>\n",
       "      <th>1</th>\n",
       "      <td>0</td>\n",
       "      <td>0</td>\n",
       "    </tr>\n",
       "    <tr>\n",
       "      <th>2</th>\n",
       "      <td>0</td>\n",
       "      <td>0</td>\n",
       "    </tr>\n",
       "    <tr>\n",
       "      <th>4</th>\n",
       "      <td>0</td>\n",
       "      <td>0</td>\n",
       "    </tr>\n",
       "    <tr>\n",
       "      <th>5</th>\n",
       "      <td>0</td>\n",
       "      <td>0</td>\n",
       "    </tr>\n",
       "  </tbody>\n",
       "</table>\n",
       "</div>"
      ],
      "text/plain": [
       "   Chinstrap  Gentoo\n",
       "0          0       0\n",
       "1          0       0\n",
       "2          0       0\n",
       "4          0       0\n",
       "5          0       0"
      ]
     },
     "execution_count": 132,
     "metadata": {},
     "output_type": "execute_result"
    }
   ],
   "source": [
    "species.head()"
   ]
  },
  {
   "cell_type": "markdown",
   "id": "1641e3d9",
   "metadata": {},
   "source": [
    "#### Including the dummy columns in the dataframe and creating a new dataframe"
   ]
  },
  {
   "cell_type": "code",
   "execution_count": 133,
   "id": "978439a3",
   "metadata": {},
   "outputs": [],
   "source": [
    "new_data = pd.concat([data, species, island], axis = 1)"
   ]
  },
  {
   "cell_type": "code",
   "execution_count": 134,
   "id": "a7f3b51a",
   "metadata": {},
   "outputs": [
    {
     "data": {
      "text/html": [
       "<div>\n",
       "<style scoped>\n",
       "    .dataframe tbody tr th:only-of-type {\n",
       "        vertical-align: middle;\n",
       "    }\n",
       "\n",
       "    .dataframe tbody tr th {\n",
       "        vertical-align: top;\n",
       "    }\n",
       "\n",
       "    .dataframe thead th {\n",
       "        text-align: right;\n",
       "    }\n",
       "</style>\n",
       "<table border=\"1\" class=\"dataframe\">\n",
       "  <thead>\n",
       "    <tr style=\"text-align: right;\">\n",
       "      <th></th>\n",
       "      <th>species</th>\n",
       "      <th>island</th>\n",
       "      <th>culmen_length_mm</th>\n",
       "      <th>culmen_depth_mm</th>\n",
       "      <th>flipper_length_mm</th>\n",
       "      <th>body_mass_g</th>\n",
       "      <th>sex</th>\n",
       "      <th>Chinstrap</th>\n",
       "      <th>Gentoo</th>\n",
       "      <th>Dream</th>\n",
       "      <th>Torgersen</th>\n",
       "    </tr>\n",
       "  </thead>\n",
       "  <tbody>\n",
       "    <tr>\n",
       "      <th>0</th>\n",
       "      <td>Adelie</td>\n",
       "      <td>Torgersen</td>\n",
       "      <td>39.1</td>\n",
       "      <td>18.7</td>\n",
       "      <td>181.0</td>\n",
       "      <td>3750.0</td>\n",
       "      <td>MALE</td>\n",
       "      <td>0</td>\n",
       "      <td>0</td>\n",
       "      <td>0</td>\n",
       "      <td>1</td>\n",
       "    </tr>\n",
       "    <tr>\n",
       "      <th>1</th>\n",
       "      <td>Adelie</td>\n",
       "      <td>Torgersen</td>\n",
       "      <td>39.5</td>\n",
       "      <td>17.4</td>\n",
       "      <td>186.0</td>\n",
       "      <td>3800.0</td>\n",
       "      <td>FEMALE</td>\n",
       "      <td>0</td>\n",
       "      <td>0</td>\n",
       "      <td>0</td>\n",
       "      <td>1</td>\n",
       "    </tr>\n",
       "    <tr>\n",
       "      <th>2</th>\n",
       "      <td>Adelie</td>\n",
       "      <td>Torgersen</td>\n",
       "      <td>40.3</td>\n",
       "      <td>18.0</td>\n",
       "      <td>195.0</td>\n",
       "      <td>3250.0</td>\n",
       "      <td>FEMALE</td>\n",
       "      <td>0</td>\n",
       "      <td>0</td>\n",
       "      <td>0</td>\n",
       "      <td>1</td>\n",
       "    </tr>\n",
       "    <tr>\n",
       "      <th>4</th>\n",
       "      <td>Adelie</td>\n",
       "      <td>Torgersen</td>\n",
       "      <td>36.7</td>\n",
       "      <td>19.3</td>\n",
       "      <td>193.0</td>\n",
       "      <td>3450.0</td>\n",
       "      <td>FEMALE</td>\n",
       "      <td>0</td>\n",
       "      <td>0</td>\n",
       "      <td>0</td>\n",
       "      <td>1</td>\n",
       "    </tr>\n",
       "    <tr>\n",
       "      <th>5</th>\n",
       "      <td>Adelie</td>\n",
       "      <td>Torgersen</td>\n",
       "      <td>39.3</td>\n",
       "      <td>20.6</td>\n",
       "      <td>190.0</td>\n",
       "      <td>3650.0</td>\n",
       "      <td>MALE</td>\n",
       "      <td>0</td>\n",
       "      <td>0</td>\n",
       "      <td>0</td>\n",
       "      <td>1</td>\n",
       "    </tr>\n",
       "  </tbody>\n",
       "</table>\n",
       "</div>"
      ],
      "text/plain": [
       "  species     island  culmen_length_mm  culmen_depth_mm  flipper_length_mm  \\\n",
       "0  Adelie  Torgersen              39.1             18.7              181.0   \n",
       "1  Adelie  Torgersen              39.5             17.4              186.0   \n",
       "2  Adelie  Torgersen              40.3             18.0              195.0   \n",
       "4  Adelie  Torgersen              36.7             19.3              193.0   \n",
       "5  Adelie  Torgersen              39.3             20.6              190.0   \n",
       "\n",
       "   body_mass_g     sex  Chinstrap  Gentoo  Dream  Torgersen  \n",
       "0       3750.0    MALE          0       0      0          1  \n",
       "1       3800.0  FEMALE          0       0      0          1  \n",
       "2       3250.0  FEMALE          0       0      0          1  \n",
       "4       3450.0  FEMALE          0       0      0          1  \n",
       "5       3650.0    MALE          0       0      0          1  "
      ]
     },
     "execution_count": 134,
     "metadata": {},
     "output_type": "execute_result"
    }
   ],
   "source": [
    "new_data.head()"
   ]
  },
  {
   "cell_type": "markdown",
   "id": "22298493",
   "metadata": {},
   "source": [
    "#### Dropping species and island from the dataframe"
   ]
  },
  {
   "cell_type": "code",
   "execution_count": 135,
   "id": "e5f2ad0d",
   "metadata": {},
   "outputs": [
    {
     "data": {
      "text/html": [
       "<div>\n",
       "<style scoped>\n",
       "    .dataframe tbody tr th:only-of-type {\n",
       "        vertical-align: middle;\n",
       "    }\n",
       "\n",
       "    .dataframe tbody tr th {\n",
       "        vertical-align: top;\n",
       "    }\n",
       "\n",
       "    .dataframe thead th {\n",
       "        text-align: right;\n",
       "    }\n",
       "</style>\n",
       "<table border=\"1\" class=\"dataframe\">\n",
       "  <thead>\n",
       "    <tr style=\"text-align: right;\">\n",
       "      <th></th>\n",
       "      <th>culmen_length_mm</th>\n",
       "      <th>culmen_depth_mm</th>\n",
       "      <th>flipper_length_mm</th>\n",
       "      <th>body_mass_g</th>\n",
       "      <th>sex</th>\n",
       "      <th>Chinstrap</th>\n",
       "      <th>Gentoo</th>\n",
       "      <th>Dream</th>\n",
       "      <th>Torgersen</th>\n",
       "    </tr>\n",
       "  </thead>\n",
       "  <tbody>\n",
       "    <tr>\n",
       "      <th>0</th>\n",
       "      <td>39.1</td>\n",
       "      <td>18.7</td>\n",
       "      <td>181.0</td>\n",
       "      <td>3750.0</td>\n",
       "      <td>MALE</td>\n",
       "      <td>0</td>\n",
       "      <td>0</td>\n",
       "      <td>0</td>\n",
       "      <td>1</td>\n",
       "    </tr>\n",
       "    <tr>\n",
       "      <th>1</th>\n",
       "      <td>39.5</td>\n",
       "      <td>17.4</td>\n",
       "      <td>186.0</td>\n",
       "      <td>3800.0</td>\n",
       "      <td>FEMALE</td>\n",
       "      <td>0</td>\n",
       "      <td>0</td>\n",
       "      <td>0</td>\n",
       "      <td>1</td>\n",
       "    </tr>\n",
       "    <tr>\n",
       "      <th>2</th>\n",
       "      <td>40.3</td>\n",
       "      <td>18.0</td>\n",
       "      <td>195.0</td>\n",
       "      <td>3250.0</td>\n",
       "      <td>FEMALE</td>\n",
       "      <td>0</td>\n",
       "      <td>0</td>\n",
       "      <td>0</td>\n",
       "      <td>1</td>\n",
       "    </tr>\n",
       "    <tr>\n",
       "      <th>4</th>\n",
       "      <td>36.7</td>\n",
       "      <td>19.3</td>\n",
       "      <td>193.0</td>\n",
       "      <td>3450.0</td>\n",
       "      <td>FEMALE</td>\n",
       "      <td>0</td>\n",
       "      <td>0</td>\n",
       "      <td>0</td>\n",
       "      <td>1</td>\n",
       "    </tr>\n",
       "    <tr>\n",
       "      <th>5</th>\n",
       "      <td>39.3</td>\n",
       "      <td>20.6</td>\n",
       "      <td>190.0</td>\n",
       "      <td>3650.0</td>\n",
       "      <td>MALE</td>\n",
       "      <td>0</td>\n",
       "      <td>0</td>\n",
       "      <td>0</td>\n",
       "      <td>1</td>\n",
       "    </tr>\n",
       "  </tbody>\n",
       "</table>\n",
       "</div>"
      ],
      "text/plain": [
       "   culmen_length_mm  culmen_depth_mm  flipper_length_mm  body_mass_g     sex  \\\n",
       "0              39.1             18.7              181.0       3750.0    MALE   \n",
       "1              39.5             17.4              186.0       3800.0  FEMALE   \n",
       "2              40.3             18.0              195.0       3250.0  FEMALE   \n",
       "4              36.7             19.3              193.0       3450.0  FEMALE   \n",
       "5              39.3             20.6              190.0       3650.0    MALE   \n",
       "\n",
       "   Chinstrap  Gentoo  Dream  Torgersen  \n",
       "0          0       0      0          1  \n",
       "1          0       0      0          1  \n",
       "2          0       0      0          1  \n",
       "4          0       0      0          1  \n",
       "5          0       0      0          1  "
      ]
     },
     "execution_count": 135,
     "metadata": {},
     "output_type": "execute_result"
    }
   ],
   "source": [
    "new_data.drop(['species', 'island'], axis = 1, inplace = True)\n",
    "new_data.head()"
   ]
  },
  {
   "cell_type": "markdown",
   "id": "7f36dc31",
   "metadata": {},
   "source": [
    "#### Assigning sex to target and converting target to numeric and randomizing the data."
   ]
  },
  {
   "cell_type": "code",
   "execution_count": 163,
   "id": "2551f632",
   "metadata": {},
   "outputs": [],
   "source": [
    "import random\n",
    "target = new_data[\"sex\"]\n",
    "random.seed(12345)\n",
    "indx = random.sample(range(0, 333), 333) \n",
    "new_data_rand = new_data.iloc[indx] \n",
    "target_rand = target.iloc[indx]"
   ]
  },
  {
   "cell_type": "code",
   "execution_count": 164,
   "id": "37ed6767",
   "metadata": {},
   "outputs": [
    {
     "data": {
      "text/plain": [
       "array(['MALE', 'FEMALE'], dtype=object)"
      ]
     },
     "execution_count": 164,
     "metadata": {},
     "output_type": "execute_result"
    }
   ],
   "source": [
    "target.unique()"
   ]
  },
  {
   "cell_type": "code",
   "execution_count": 165,
   "id": "b9e1b035",
   "metadata": {},
   "outputs": [
    {
     "data": {
      "text/plain": [
       "array([1, 0])"
      ]
     },
     "execution_count": 165,
     "metadata": {},
     "output_type": "execute_result"
    }
   ],
   "source": [
    "target_rand = target_rand.map({'MALE' : 0, 'FEMALE' : 1})\n",
    "target_rand.unique()"
   ]
  },
  {
   "cell_type": "markdown",
   "id": "8373c4bc",
   "metadata": {},
   "source": [
    "## Desision Tree Classifier"
   ]
  },
  {
   "cell_type": "code",
   "execution_count": 166,
   "id": "d51c6aa2",
   "metadata": {},
   "outputs": [],
   "source": [
    "Y = target_rand\n",
    "X = new_data_rand.drop([\"sex\"],axis = 1)"
   ]
  },
  {
   "cell_type": "code",
   "execution_count": 167,
   "id": "3839af0b",
   "metadata": {},
   "outputs": [
    {
     "data": {
      "text/html": [
       "<div>\n",
       "<style scoped>\n",
       "    .dataframe tbody tr th:only-of-type {\n",
       "        vertical-align: middle;\n",
       "    }\n",
       "\n",
       "    .dataframe tbody tr th {\n",
       "        vertical-align: top;\n",
       "    }\n",
       "\n",
       "    .dataframe thead th {\n",
       "        text-align: right;\n",
       "    }\n",
       "</style>\n",
       "<table border=\"1\" class=\"dataframe\">\n",
       "  <thead>\n",
       "    <tr style=\"text-align: right;\">\n",
       "      <th></th>\n",
       "      <th>culmen_length_mm</th>\n",
       "      <th>culmen_depth_mm</th>\n",
       "      <th>flipper_length_mm</th>\n",
       "      <th>body_mass_g</th>\n",
       "      <th>Chinstrap</th>\n",
       "      <th>Gentoo</th>\n",
       "      <th>Dream</th>\n",
       "      <th>Torgersen</th>\n",
       "    </tr>\n",
       "  </thead>\n",
       "  <tbody>\n",
       "    <tr>\n",
       "      <th>219</th>\n",
       "      <td>50.2</td>\n",
       "      <td>18.7</td>\n",
       "      <td>198.0</td>\n",
       "      <td>3775.0</td>\n",
       "      <td>1</td>\n",
       "      <td>0</td>\n",
       "      <td>1</td>\n",
       "      <td>0</td>\n",
       "    </tr>\n",
       "    <tr>\n",
       "      <th>6</th>\n",
       "      <td>38.9</td>\n",
       "      <td>17.8</td>\n",
       "      <td>181.0</td>\n",
       "      <td>3625.0</td>\n",
       "      <td>0</td>\n",
       "      <td>0</td>\n",
       "      <td>0</td>\n",
       "      <td>1</td>\n",
       "    </tr>\n",
       "    <tr>\n",
       "      <th>158</th>\n",
       "      <td>46.1</td>\n",
       "      <td>18.2</td>\n",
       "      <td>178.0</td>\n",
       "      <td>3250.0</td>\n",
       "      <td>1</td>\n",
       "      <td>0</td>\n",
       "      <td>1</td>\n",
       "      <td>0</td>\n",
       "    </tr>\n",
       "    <tr>\n",
       "      <th>194</th>\n",
       "      <td>50.9</td>\n",
       "      <td>19.1</td>\n",
       "      <td>196.0</td>\n",
       "      <td>3550.0</td>\n",
       "      <td>1</td>\n",
       "      <td>0</td>\n",
       "      <td>1</td>\n",
       "      <td>0</td>\n",
       "    </tr>\n",
       "    <tr>\n",
       "      <th>105</th>\n",
       "      <td>39.7</td>\n",
       "      <td>18.9</td>\n",
       "      <td>184.0</td>\n",
       "      <td>3550.0</td>\n",
       "      <td>0</td>\n",
       "      <td>0</td>\n",
       "      <td>0</td>\n",
       "      <td>0</td>\n",
       "    </tr>\n",
       "  </tbody>\n",
       "</table>\n",
       "</div>"
      ],
      "text/plain": [
       "     culmen_length_mm  culmen_depth_mm  flipper_length_mm  body_mass_g  \\\n",
       "219              50.2             18.7              198.0       3775.0   \n",
       "6                38.9             17.8              181.0       3625.0   \n",
       "158              46.1             18.2              178.0       3250.0   \n",
       "194              50.9             19.1              196.0       3550.0   \n",
       "105              39.7             18.9              184.0       3550.0   \n",
       "\n",
       "     Chinstrap  Gentoo  Dream  Torgersen  \n",
       "219          1       0      1          0  \n",
       "6            0       0      0          1  \n",
       "158          1       0      1          0  \n",
       "194          1       0      1          0  \n",
       "105          0       0      0          0  "
      ]
     },
     "execution_count": 167,
     "metadata": {},
     "output_type": "execute_result"
    }
   ],
   "source": [
    "X.head()"
   ]
  },
  {
   "cell_type": "code",
   "execution_count": 168,
   "id": "5935b1f0",
   "metadata": {},
   "outputs": [
    {
     "data": {
      "text/plain": [
       "219    1\n",
       "6      1\n",
       "158    1\n",
       "194    0\n",
       "105    0\n",
       "Name: sex, dtype: int64"
      ]
     },
     "execution_count": 168,
     "metadata": {},
     "output_type": "execute_result"
    }
   ],
   "source": [
    "Y.head()"
   ]
  },
  {
   "cell_type": "code",
   "execution_count": 169,
   "id": "09936c48",
   "metadata": {},
   "outputs": [],
   "source": [
    "from sklearn.model_selection import train_test_split\n",
    "X_train, X_test, Y_train, Y_test = train_test_split(X, Y, test_size = 0.30, random_state = 52)"
   ]
  },
  {
   "cell_type": "code",
   "execution_count": 170,
   "id": "d2a84c7a",
   "metadata": {},
   "outputs": [
    {
     "data": {
      "text/plain": [
       "0    0.519313\n",
       "1    0.480687\n",
       "Name: sex, dtype: float64"
      ]
     },
     "execution_count": 170,
     "metadata": {},
     "output_type": "execute_result"
    }
   ],
   "source": [
    "Y_train.value_counts() / Y_train.shape"
   ]
  },
  {
   "cell_type": "code",
   "execution_count": 171,
   "id": "37c51dc0",
   "metadata": {},
   "outputs": [
    {
     "data": {
      "text/plain": [
       "1    0.53\n",
       "0    0.47\n",
       "Name: sex, dtype: float64"
      ]
     },
     "execution_count": 171,
     "metadata": {},
     "output_type": "execute_result"
    }
   ],
   "source": [
    "Y_test.value_counts() / Y_test.shape"
   ]
  },
  {
   "cell_type": "code",
   "execution_count": 172,
   "id": "9b952136",
   "metadata": {},
   "outputs": [],
   "source": [
    "from sklearn import tree\n",
    "from sklearn.tree import DecisionTreeClassifier\n",
    "tree = DecisionTreeClassifier()\n",
    "model = tree.fit(X_train, Y_train)"
   ]
  },
  {
   "cell_type": "markdown",
   "id": "7ebcae69",
   "metadata": {},
   "source": [
    "### Model Evaluation"
   ]
  },
  {
   "cell_type": "code",
   "execution_count": 173,
   "id": "17f3ad1f",
   "metadata": {},
   "outputs": [
    {
     "name": "stdout",
     "output_type": "stream",
     "text": [
      "[[41  6]\n",
      " [ 4 49]]\n"
     ]
    }
   ],
   "source": [
    "from sklearn.metrics import confusion_matrix\n",
    "from sklearn.metrics import accuracy_score\n",
    "Y_predict = model.predict(X_test)\n",
    "print(confusion_matrix(Y_test, Y_predict))"
   ]
  },
  {
   "cell_type": "code",
   "execution_count": 174,
   "id": "9e3f2921",
   "metadata": {},
   "outputs": [
    {
     "name": "stdout",
     "output_type": "stream",
     "text": [
      "90.0\n"
     ]
    }
   ],
   "source": [
    "print(accuracy_score(Y_test, Y_predict)*100)"
   ]
  },
  {
   "cell_type": "markdown",
   "id": "4d0d2ef9",
   "metadata": {},
   "source": [
    "#### Using Decision Tree gives us an accuracy of 90%. The percentage of False Positives and False Negative classified were fairly close to each other at 4% and 6% respectively."
   ]
  },
  {
   "cell_type": "markdown",
   "id": "d83a2faf",
   "metadata": {},
   "source": [
    "## Random Forest"
   ]
  },
  {
   "cell_type": "code",
   "execution_count": 178,
   "id": "72b03b6e",
   "metadata": {},
   "outputs": [
    {
     "name": "stdout",
     "output_type": "stream",
     "text": [
      "[[43  4]\n",
      " [ 5 48]]\n"
     ]
    }
   ],
   "source": [
    "from sklearn.ensemble import RandomForestClassifier\n",
    "clf = RandomForestClassifier()\n",
    "model = clf.fit(X_train, Y_train)\n",
    "Y_predict = model.predict(X_test)\n",
    "print(confusion_matrix(Y_test,Y_predict))"
   ]
  },
  {
   "cell_type": "code",
   "execution_count": 179,
   "id": "2b5c7121",
   "metadata": {},
   "outputs": [
    {
     "name": "stdout",
     "output_type": "stream",
     "text": [
      "91.0\n"
     ]
    }
   ],
   "source": [
    "print(accuracy_score(Y_test, Y_predict)*100)"
   ]
  },
  {
   "cell_type": "markdown",
   "id": "702ad3ed",
   "metadata": {},
   "source": [
    "### Importance of Features"
   ]
  },
  {
   "cell_type": "code",
   "execution_count": 177,
   "id": "34f92b84",
   "metadata": {},
   "outputs": [
    {
     "data": {
      "text/html": [
       "<div>\n",
       "<style scoped>\n",
       "    .dataframe tbody tr th:only-of-type {\n",
       "        vertical-align: middle;\n",
       "    }\n",
       "\n",
       "    .dataframe tbody tr th {\n",
       "        vertical-align: top;\n",
       "    }\n",
       "\n",
       "    .dataframe thead th {\n",
       "        text-align: right;\n",
       "    }\n",
       "</style>\n",
       "<table border=\"1\" class=\"dataframe\">\n",
       "  <thead>\n",
       "    <tr style=\"text-align: right;\">\n",
       "      <th></th>\n",
       "      <th>importance</th>\n",
       "    </tr>\n",
       "  </thead>\n",
       "  <tbody>\n",
       "    <tr>\n",
       "      <th>culmen_depth_mm</th>\n",
       "      <td>0.292731</td>\n",
       "    </tr>\n",
       "    <tr>\n",
       "      <th>body_mass_g</th>\n",
       "      <td>0.284620</td>\n",
       "    </tr>\n",
       "    <tr>\n",
       "      <th>culmen_length_mm</th>\n",
       "      <td>0.227383</td>\n",
       "    </tr>\n",
       "    <tr>\n",
       "      <th>flipper_length_mm</th>\n",
       "      <td>0.131163</td>\n",
       "    </tr>\n",
       "    <tr>\n",
       "      <th>Gentoo</th>\n",
       "      <td>0.027388</td>\n",
       "    </tr>\n",
       "    <tr>\n",
       "      <th>Chinstrap</th>\n",
       "      <td>0.016665</td>\n",
       "    </tr>\n",
       "    <tr>\n",
       "      <th>Dream</th>\n",
       "      <td>0.011612</td>\n",
       "    </tr>\n",
       "    <tr>\n",
       "      <th>Torgersen</th>\n",
       "      <td>0.008439</td>\n",
       "    </tr>\n",
       "  </tbody>\n",
       "</table>\n",
       "</div>"
      ],
      "text/plain": [
       "                   importance\n",
       "culmen_depth_mm      0.292731\n",
       "body_mass_g          0.284620\n",
       "culmen_length_mm     0.227383\n",
       "flipper_length_mm    0.131163\n",
       "Gentoo               0.027388\n",
       "Chinstrap            0.016665\n",
       "Dream                0.011612\n",
       "Torgersen            0.008439"
      ]
     },
     "execution_count": 177,
     "metadata": {},
     "output_type": "execute_result"
    }
   ],
   "source": [
    "import pandas as pd\n",
    "feature_importances = pd.DataFrame(clf.feature_importances_, index = X.columns, columns=['importance']).sort_values('importance', ascending=False) \n",
    "feature_importances"
   ]
  },
  {
   "cell_type": "markdown",
   "id": "61bd2573",
   "metadata": {},
   "source": [
    "#### The  most important features in predicting the Sex of the Penguins were the Culmin_depth, body_mass and Culmin_length in that order."
   ]
  },
  {
   "cell_type": "markdown",
   "id": "29d3f135",
   "metadata": {},
   "source": [
    "#### Using Random Forest increased the accuracy to 91%"
   ]
  },
  {
   "cell_type": "markdown",
   "id": "50b03905",
   "metadata": {},
   "source": [
    "## Gaussian Naive Bayes Algorithm"
   ]
  },
  {
   "cell_type": "code",
   "execution_count": 180,
   "id": "a866823d",
   "metadata": {},
   "outputs": [
    {
     "name": "stdout",
     "output_type": "stream",
     "text": [
      "[[30 17]\n",
      " [20 33]]\n"
     ]
    }
   ],
   "source": [
    "from sklearn.naive_bayes import GaussianNB\n",
    "gnb = GaussianNB()\n",
    "model = gnb.fit(X_train, Y_train)\n",
    "Y_predict = model.predict(X_test)\n",
    "print(confusion_matrix(Y_test,Y_predict))"
   ]
  },
  {
   "cell_type": "code",
   "execution_count": 181,
   "id": "4b8b2c0f",
   "metadata": {},
   "outputs": [
    {
     "name": "stdout",
     "output_type": "stream",
     "text": [
      "63.0\n"
     ]
    }
   ],
   "source": [
    "print(accuracy_score(Y_test, Y_predict)*100)"
   ]
  },
  {
   "cell_type": "markdown",
   "id": "b9a9d68e",
   "metadata": {},
   "source": [
    "#### The accuracy decreased to 63 % by using the Gaussian Naive Bayes classifier"
   ]
  },
  {
   "cell_type": "markdown",
   "id": "4d7a3771",
   "metadata": {},
   "source": [
    "## Support Vector Machines"
   ]
  },
  {
   "cell_type": "markdown",
   "id": "78079c5d",
   "metadata": {},
   "source": [
    "#### Normalizing the X variables"
   ]
  },
  {
   "cell_type": "code",
   "execution_count": 182,
   "id": "272e1fed",
   "metadata": {},
   "outputs": [
    {
     "data": {
      "text/html": [
       "<div>\n",
       "<style scoped>\n",
       "    .dataframe tbody tr th:only-of-type {\n",
       "        vertical-align: middle;\n",
       "    }\n",
       "\n",
       "    .dataframe tbody tr th {\n",
       "        vertical-align: top;\n",
       "    }\n",
       "\n",
       "    .dataframe thead th {\n",
       "        text-align: right;\n",
       "    }\n",
       "</style>\n",
       "<table border=\"1\" class=\"dataframe\">\n",
       "  <thead>\n",
       "    <tr style=\"text-align: right;\">\n",
       "      <th></th>\n",
       "      <th>culmen_length_mm</th>\n",
       "      <th>culmen_depth_mm</th>\n",
       "      <th>flipper_length_mm</th>\n",
       "      <th>body_mass_g</th>\n",
       "      <th>Chinstrap</th>\n",
       "      <th>Gentoo</th>\n",
       "      <th>Dream</th>\n",
       "      <th>Torgersen</th>\n",
       "    </tr>\n",
       "  </thead>\n",
       "  <tbody>\n",
       "    <tr>\n",
       "      <th>219</th>\n",
       "      <td>50.2</td>\n",
       "      <td>18.7</td>\n",
       "      <td>198.0</td>\n",
       "      <td>3775.0</td>\n",
       "      <td>1</td>\n",
       "      <td>0</td>\n",
       "      <td>1</td>\n",
       "      <td>0</td>\n",
       "    </tr>\n",
       "    <tr>\n",
       "      <th>6</th>\n",
       "      <td>38.9</td>\n",
       "      <td>17.8</td>\n",
       "      <td>181.0</td>\n",
       "      <td>3625.0</td>\n",
       "      <td>0</td>\n",
       "      <td>0</td>\n",
       "      <td>0</td>\n",
       "      <td>1</td>\n",
       "    </tr>\n",
       "    <tr>\n",
       "      <th>158</th>\n",
       "      <td>46.1</td>\n",
       "      <td>18.2</td>\n",
       "      <td>178.0</td>\n",
       "      <td>3250.0</td>\n",
       "      <td>1</td>\n",
       "      <td>0</td>\n",
       "      <td>1</td>\n",
       "      <td>0</td>\n",
       "    </tr>\n",
       "    <tr>\n",
       "      <th>194</th>\n",
       "      <td>50.9</td>\n",
       "      <td>19.1</td>\n",
       "      <td>196.0</td>\n",
       "      <td>3550.0</td>\n",
       "      <td>1</td>\n",
       "      <td>0</td>\n",
       "      <td>1</td>\n",
       "      <td>0</td>\n",
       "    </tr>\n",
       "    <tr>\n",
       "      <th>105</th>\n",
       "      <td>39.7</td>\n",
       "      <td>18.9</td>\n",
       "      <td>184.0</td>\n",
       "      <td>3550.0</td>\n",
       "      <td>0</td>\n",
       "      <td>0</td>\n",
       "      <td>0</td>\n",
       "      <td>0</td>\n",
       "    </tr>\n",
       "  </tbody>\n",
       "</table>\n",
       "</div>"
      ],
      "text/plain": [
       "     culmen_length_mm  culmen_depth_mm  flipper_length_mm  body_mass_g  \\\n",
       "219              50.2             18.7              198.0       3775.0   \n",
       "6                38.9             17.8              181.0       3625.0   \n",
       "158              46.1             18.2              178.0       3250.0   \n",
       "194              50.9             19.1              196.0       3550.0   \n",
       "105              39.7             18.9              184.0       3550.0   \n",
       "\n",
       "     Chinstrap  Gentoo  Dream  Torgersen  \n",
       "219          1       0      1          0  \n",
       "6            0       0      0          1  \n",
       "158          1       0      1          0  \n",
       "194          1       0      1          0  \n",
       "105          0       0      0          0  "
      ]
     },
     "execution_count": 182,
     "metadata": {},
     "output_type": "execute_result"
    }
   ],
   "source": [
    "X.head()"
   ]
  },
  {
   "cell_type": "code",
   "execution_count": 183,
   "id": "074ebe37",
   "metadata": {},
   "outputs": [
    {
     "name": "stdout",
     "output_type": "stream",
     "text": [
      "[[0.65818182 0.66666667 0.44067797 ... 0.         1.         0.        ]\n",
      " [0.24727273 0.55952381 0.15254237 ... 0.         0.         1.        ]\n",
      " [0.50909091 0.60714286 0.10169492 ... 0.         1.         0.        ]\n",
      " ...\n",
      " [0.41454545 0.25       0.69491525 ... 1.         0.         0.        ]\n",
      " [0.48363636 0.66666667 0.27118644 ... 0.         1.         0.        ]\n",
      " [0.16       0.58333333 0.16949153 ... 0.         1.         0.        ]]\n"
     ]
    }
   ],
   "source": [
    "from sklearn.preprocessing import MinMaxScaler\n",
    "scaler = MinMaxScaler()\n",
    "scaled = scaler.fit_transform(X)\n",
    "print(scaled)"
   ]
  },
  {
   "cell_type": "code",
   "execution_count": 184,
   "id": "c2a8928d",
   "metadata": {},
   "outputs": [],
   "source": [
    "Y = target_rand\n",
    "X = scaled\n",
    "X_train, X_test, Y_train, Y_test = train_test_split(X,Y,test_size = 0.3, random_state = 52)"
   ]
  },
  {
   "cell_type": "code",
   "execution_count": 185,
   "id": "6cc317cb",
   "metadata": {},
   "outputs": [
    {
     "name": "stdout",
     "output_type": "stream",
     "text": [
      "[[42  5]\n",
      " [ 5 48]]\n"
     ]
    }
   ],
   "source": [
    "from sklearn import svm\n",
    "clf = svm.SVC(kernel = \"linear\")\n",
    "model = clf.fit(X_train, Y_train)\n",
    "Y_predict = model.predict(X_test)\n",
    "print(confusion_matrix(Y_test, Y_predict))"
   ]
  },
  {
   "cell_type": "code",
   "execution_count": 186,
   "id": "73106833",
   "metadata": {},
   "outputs": [
    {
     "name": "stdout",
     "output_type": "stream",
     "text": [
      "90.0\n"
     ]
    }
   ],
   "source": [
    "print(accuracy_score(Y_test, Y_predict)*100)"
   ]
  },
  {
   "cell_type": "markdown",
   "id": "ad253058",
   "metadata": {},
   "source": [
    "#### As we see the Linear Kernel gives an accuracy of 90%"
   ]
  },
  {
   "cell_type": "markdown",
   "id": "22bf3870",
   "metadata": {},
   "source": [
    "### RBF Kernel"
   ]
  },
  {
   "cell_type": "code",
   "execution_count": 187,
   "id": "1535438f",
   "metadata": {},
   "outputs": [
    {
     "name": "stdout",
     "output_type": "stream",
     "text": [
      "[[44  3]\n",
      " [ 5 48]]\n"
     ]
    }
   ],
   "source": [
    "clf = svm.SVC(kernel='rbf', degree = 8) \n",
    "model = clf.fit(X_train, Y_train) \n",
    "Y_predict = model.predict(X_test) \n",
    "print(confusion_matrix(Y_test, Y_predict))"
   ]
  },
  {
   "cell_type": "code",
   "execution_count": 188,
   "id": "954d2347",
   "metadata": {},
   "outputs": [
    {
     "name": "stdout",
     "output_type": "stream",
     "text": [
      "92.0\n"
     ]
    }
   ],
   "source": [
    "print(accuracy_score(Y_test, Y_predict)*100)"
   ]
  },
  {
   "cell_type": "markdown",
   "id": "4c2a2d8b",
   "metadata": {},
   "source": [
    "#### Using the RBF Kernel the accuracy increased to 92%"
   ]
  },
  {
   "cell_type": "markdown",
   "id": "7d04fc20",
   "metadata": {},
   "source": [
    "### Polynomial Kernel"
   ]
  },
  {
   "cell_type": "code",
   "execution_count": 189,
   "id": "e84b3c3a",
   "metadata": {},
   "outputs": [
    {
     "name": "stdout",
     "output_type": "stream",
     "text": [
      "[[31 16]\n",
      " [ 3 50]]\n"
     ]
    }
   ],
   "source": [
    "clf = svm.SVC(kernel='poly', gamma =0.3) \n",
    "model = clf.fit(X_train, Y_train) \n",
    "Y_predict = model.predict(X_test) \n",
    "print(confusion_matrix(Y_test, Y_predict))"
   ]
  },
  {
   "cell_type": "code",
   "execution_count": 190,
   "id": "59945be8",
   "metadata": {},
   "outputs": [
    {
     "name": "stdout",
     "output_type": "stream",
     "text": [
      "81.0\n"
     ]
    }
   ],
   "source": [
    "print(accuracy_score(Y_test, Y_predict)*100)"
   ]
  },
  {
   "cell_type": "markdown",
   "id": "474412e3",
   "metadata": {},
   "source": [
    "#### The polynomail kernel gave the least accuracy between the 3 Kernels used at 81%"
   ]
  },
  {
   "cell_type": "markdown",
   "id": "2bfd8757",
   "metadata": {},
   "source": [
    "## Unsupervised: Clustering using the K-means algorithm"
   ]
  },
  {
   "cell_type": "code",
   "execution_count": 191,
   "id": "19b9f89f",
   "metadata": {},
   "outputs": [
    {
     "name": "stdout",
     "output_type": "stream",
     "text": [
      "[[0.65818182 0.66666667 0.44067797 ... 0.         1.         0.        ]\n",
      " [0.24727273 0.55952381 0.15254237 ... 0.         0.         1.        ]\n",
      " [0.50909091 0.60714286 0.10169492 ... 0.         1.         0.        ]\n",
      " ...\n",
      " [0.41454545 0.25       0.69491525 ... 1.         0.         0.        ]\n",
      " [0.48363636 0.66666667 0.27118644 ... 0.         1.         0.        ]\n",
      " [0.16       0.58333333 0.16949153 ... 0.         1.         0.        ]]\n"
     ]
    }
   ],
   "source": [
    "from sklearn.preprocessing import MinMaxScaler\n",
    "scaler = MinMaxScaler()\n",
    "scaled = scaler.fit_transform(X)\n",
    "Y = target_rand\n",
    "X = scaled\n",
    "print(X)"
   ]
  },
  {
   "cell_type": "code",
   "execution_count": 192,
   "id": "71803c02",
   "metadata": {},
   "outputs": [
    {
     "name": "stdout",
     "output_type": "stream",
     "text": [
      "At k=  1 The percentage of change in SSE is  99.998208072535 %\n",
      "At k=  2 The percentage of change in SSE is  48.81790114012003 %\n",
      "At k=  3 The percentage of change in SSE is  52.222510950290946 %\n",
      "At k=  4 The percentage of change in SSE is  45.4073175382075 %\n",
      "At k=  5 The percentage of change in SSE is  54.12067371485251 %\n",
      "At k=  6 The percentage of change in SSE is  19.672990727569847 %\n",
      "At k=  7 The percentage of change in SSE is  12.240089585935465 %\n",
      "At k=  8 The percentage of change in SSE is  9.57089372768644 %\n",
      "At k=  9 The percentage of change in SSE is  9.92506387510864 %\n",
      "At k=  10 The percentage of change in SSE is  10.269031034868561 %\n",
      "At k=  11 The percentage of change in SSE is  8.656628110688978 %\n",
      "At k=  12 The percentage of change in SSE is  5.469863889931658 %\n",
      "At k=  13 The percentage of change in SSE is  3.9109261926731316 %\n",
      "At k=  14 The percentage of change in SSE is  4.289380163025055 %\n",
      "At k=  15 The percentage of change in SSE is  3.2092043953886145 %\n",
      "At k=  16 The percentage of change in SSE is  2.8537143628810124 %\n",
      "At k=  17 The percentage of change in SSE is  1.8882221598651179 %\n",
      "At k=  18 The percentage of change in SSE is  4.218518270236141 %\n",
      "At k=  19 The percentage of change in SSE is  2.8627988764956878 %\n"
     ]
    },
    {
     "data": {
      "image/png": "[encoded data removed]",
      "text/plain": [
       "<Figure size 640x480 with 1 Axes>"
      ]
     },
     "metadata": {},
     "output_type": "display_data"
    }
   ],
   "source": [
    "from sklearn.cluster import KMeans\n",
    "import matplotlib.pyplot as plt\n",
    "\n",
    "sse = {}\n",
    "last_sse = 17592402.70373319\n",
    "for k in range(1, 20):\n",
    "    kmeans = KMeans(n_clusters=k, random_state=12345, n_init = 25).fit(X) ## Note X is scaled\n",
    "    #print(data[\"clusters\"])\n",
    "    sse[k] = kmeans.inertia_ # Inertia: Sum of distances of samples to their closest cluster center\n",
    "    change_per = (last_sse-kmeans.inertia_)/last_sse*100\n",
    "    print ('At k= ',k,'The percentage of change in SSE is ',change_per,'%') \n",
    "    last_sse = kmeans.inertia_\n",
    "plt.figure()\n",
    "plt.plot(list(sse.keys()), list(sse.values())) \n",
    "plt.xlabel(\"Number of cluster\")\n",
    "plt.ylabel(\"SSE\")\n",
    "plt.show()"
   ]
  },
  {
   "cell_type": "markdown",
   "id": "008a8762",
   "metadata": {},
   "source": [
    "#### An elbow can be seen in the graph from K =3 to K=5 , we can say that K in this range seems  like a good fit as the change in percentage of sse is more compared to the values above K=5, within group error is considerably less compared to values below K=3 and the between group distance looks acceptable."
   ]
  },
  {
   "cell_type": "code",
   "execution_count": 193,
   "id": "87727524",
   "metadata": {},
   "outputs": [
    {
     "data": {
      "text/plain": [
       "array([[ 5.62475172e-01,  2.25790316e-01,  7.66699900e-01,\n",
       "         6.64565826e-01,  2.77555756e-17,  1.00000000e+00,\n",
       "        -1.11022302e-16,  2.22044605e-16],\n",
       "       [ 3.60169924e-01,  6.27447708e-01,  3.37636623e-01,\n",
       "         2.81866563e-01,  3.17757009e-01, -3.33066907e-16,\n",
       "         5.74766355e-01,  2.19626168e-01]])"
      ]
     },
     "execution_count": 193,
     "metadata": {},
     "output_type": "execute_result"
    }
   ],
   "source": [
    "from sklearn.cluster import KMeans\n",
    "kmeans = KMeans(n_clusters=2, random_state=1234, n_init = 25 ).fit(X)\n",
    "kmeans.cluster_centers_"
   ]
  },
  {
   "cell_type": "code",
   "execution_count": 194,
   "id": "728e985d",
   "metadata": {},
   "outputs": [
    {
     "data": {
      "text/plain": [
       "1    214\n",
       "0    119\n",
       "dtype: int64"
      ]
     },
     "execution_count": 194,
     "metadata": {},
     "output_type": "execute_result"
    }
   ],
   "source": [
    "pd.Series(kmeans.labels_).value_counts()"
   ]
  },
  {
   "cell_type": "code",
   "execution_count": 195,
   "id": "4d067575",
   "metadata": {},
   "outputs": [
    {
     "data": {
      "text/plain": [
       "0    168\n",
       "1    165\n",
       "Name: sex, dtype: int64"
      ]
     },
     "execution_count": 195,
     "metadata": {},
     "output_type": "execute_result"
    }
   ],
   "source": [
    "target_rand.value_counts()"
   ]
  },
  {
   "cell_type": "code",
   "execution_count": 196,
   "id": "7b4176bd",
   "metadata": {},
   "outputs": [
    {
     "name": "stdout",
     "output_type": "stream",
     "text": [
      "[[ 61  58]\n",
      " [107 107]]\n"
     ]
    }
   ],
   "source": [
    "print(confusion_matrix(kmeans.labels_, target_rand))"
   ]
  },
  {
   "cell_type": "code",
   "execution_count": 197,
   "id": "f6a8fa48",
   "metadata": {},
   "outputs": [
    {
     "name": "stdout",
     "output_type": "stream",
     "text": [
      "50.45045045045045\n"
     ]
    }
   ],
   "source": [
    "print(accuracy_score(kmeans.labels_, target_rand)*100)"
   ]
  },
  {
   "cell_type": "markdown",
   "id": "a2f8efe3",
   "metadata": {},
   "source": [
    "#### We used K= 2 for clustering to test the accuracy of predicting the classes., which came out to be 50.45%"
   ]
  },
  {
   "cell_type": "markdown",
   "id": "819799e0",
   "metadata": {},
   "source": [
    "### Supervised: Using KNN algorithm"
   ]
  },
  {
   "cell_type": "markdown",
   "id": "a286031d",
   "metadata": {},
   "source": [
    "### Model with K = 3"
   ]
  },
  {
   "cell_type": "code",
   "execution_count": 198,
   "id": "3ad9f3b3",
   "metadata": {},
   "outputs": [
    {
     "name": "stdout",
     "output_type": "stream",
     "text": [
      "[[45  2]\n",
      " [ 4 49]]\n"
     ]
    },
    {
     "name": "stderr",
     "output_type": "stream",
     "text": [
      "/Users/pratik/opt/anaconda3/lib/python3.9/site-packages/sklearn/neighbors/_classification.py:228: FutureWarning: Unlike other reduction functions (e.g. `skew`, `kurtosis`), the default behavior of `mode` typically preserves the axis it acts along. In SciPy 1.11.0, this behavior will change: the default value of `keepdims` will become False, the `axis` over which the statistic is taken will be eliminated, and the value None will no longer be accepted. Set `keepdims` to True or False to avoid this warning.\n",
      "  mode, _ = stats.mode(_y[neigh_ind, k], axis=1)\n"
     ]
    }
   ],
   "source": [
    "from sklearn.neighbors import KNeighborsClassifier \n",
    "neigh = KNeighborsClassifier(n_neighbors=3) \n",
    "model = neigh.fit(X, Y)\n",
    "Y_predict = model.predict(X_test)\n",
    "print(confusion_matrix(Y_test, Y_predict))"
   ]
  },
  {
   "cell_type": "code",
   "execution_count": 199,
   "id": "7a28db72",
   "metadata": {},
   "outputs": [
    {
     "name": "stdout",
     "output_type": "stream",
     "text": [
      "94.0\n"
     ]
    }
   ],
   "source": [
    "print(accuracy_score(Y_test, Y_predict)*100)"
   ]
  },
  {
   "cell_type": "markdown",
   "id": "649a23fc",
   "metadata": {},
   "source": [
    "#### Using KNN algorithm gives an accuracy of 94%"
   ]
  },
  {
   "cell_type": "markdown",
   "id": "e0552db6",
   "metadata": {},
   "source": [
    "### Model with K= 5"
   ]
  },
  {
   "cell_type": "code",
   "execution_count": 200,
   "id": "7f81819d",
   "metadata": {},
   "outputs": [
    {
     "name": "stdout",
     "output_type": "stream",
     "text": [
      "[[45  2]\n",
      " [ 3 50]]\n"
     ]
    },
    {
     "name": "stderr",
     "output_type": "stream",
     "text": [
      "/Users/pratik/opt/anaconda3/lib/python3.9/site-packages/sklearn/neighbors/_classification.py:228: FutureWarning: Unlike other reduction functions (e.g. `skew`, `kurtosis`), the default behavior of `mode` typically preserves the axis it acts along. In SciPy 1.11.0, this behavior will change: the default value of `keepdims` will become False, the `axis` over which the statistic is taken will be eliminated, and the value None will no longer be accepted. Set `keepdims` to True or False to avoid this warning.\n",
      "  mode, _ = stats.mode(_y[neigh_ind, k], axis=1)\n"
     ]
    }
   ],
   "source": [
    "from sklearn.neighbors import KNeighborsClassifier \n",
    "neigh = KNeighborsClassifier(n_neighbors=5) \n",
    "model = neigh.fit(X, Y)\n",
    "Y_predict = model.predict(X_test)\n",
    "print(confusion_matrix(Y_test, Y_predict))"
   ]
  },
  {
   "cell_type": "code",
   "execution_count": 201,
   "id": "e37811d1",
   "metadata": {},
   "outputs": [
    {
     "name": "stdout",
     "output_type": "stream",
     "text": [
      "95.0\n"
     ]
    }
   ],
   "source": [
    "print(accuracy_score(Y_test, Y_predict)*100)"
   ]
  },
  {
   "cell_type": "markdown",
   "id": "4a97bf16",
   "metadata": {},
   "source": [
    "### MODEL WITH K = 6"
   ]
  },
  {
   "cell_type": "code",
   "execution_count": 202,
   "id": "2279c46b",
   "metadata": {},
   "outputs": [
    {
     "name": "stdout",
     "output_type": "stream",
     "text": [
      "[[46  1]\n",
      " [ 3 50]]\n"
     ]
    },
    {
     "name": "stderr",
     "output_type": "stream",
     "text": [
      "/Users/pratik/opt/anaconda3/lib/python3.9/site-packages/sklearn/neighbors/_classification.py:228: FutureWarning: Unlike other reduction functions (e.g. `skew`, `kurtosis`), the default behavior of `mode` typically preserves the axis it acts along. In SciPy 1.11.0, this behavior will change: the default value of `keepdims` will become False, the `axis` over which the statistic is taken will be eliminated, and the value None will no longer be accepted. Set `keepdims` to True or False to avoid this warning.\n",
      "  mode, _ = stats.mode(_y[neigh_ind, k], axis=1)\n"
     ]
    }
   ],
   "source": [
    "from sklearn.neighbors import KNeighborsClassifier \n",
    "neigh = KNeighborsClassifier(n_neighbors=6) \n",
    "model = neigh.fit(X, Y)\n",
    "Y_predict = model.predict(X_test)\n",
    "print(confusion_matrix(Y_test, Y_predict))"
   ]
  },
  {
   "cell_type": "code",
   "execution_count": 203,
   "id": "30adbfeb",
   "metadata": {},
   "outputs": [
    {
     "name": "stdout",
     "output_type": "stream",
     "text": [
      "96.0\n"
     ]
    }
   ],
   "source": [
    "print(accuracy_score(Y_test, Y_predict)*100)"
   ]
  },
  {
   "cell_type": "markdown",
   "id": "4b686361",
   "metadata": {},
   "source": [
    "### MODEL WITH K = 10"
   ]
  },
  {
   "cell_type": "code",
   "execution_count": 204,
   "id": "68886f30",
   "metadata": {},
   "outputs": [
    {
     "name": "stdout",
     "output_type": "stream",
     "text": [
      "[[44  3]\n",
      " [ 4 49]]\n"
     ]
    },
    {
     "name": "stderr",
     "output_type": "stream",
     "text": [
      "/Users/pratik/opt/anaconda3/lib/python3.9/site-packages/sklearn/neighbors/_classification.py:228: FutureWarning: Unlike other reduction functions (e.g. `skew`, `kurtosis`), the default behavior of `mode` typically preserves the axis it acts along. In SciPy 1.11.0, this behavior will change: the default value of `keepdims` will become False, the `axis` over which the statistic is taken will be eliminated, and the value None will no longer be accepted. Set `keepdims` to True or False to avoid this warning.\n",
      "  mode, _ = stats.mode(_y[neigh_ind, k], axis=1)\n"
     ]
    }
   ],
   "source": [
    "from sklearn.neighbors import KNeighborsClassifier \n",
    "neigh = KNeighborsClassifier(n_neighbors=10) \n",
    "model = neigh.fit(X, Y)\n",
    "Y_predict = model.predict(X_test)\n",
    "print(confusion_matrix(Y_test, Y_predict))"
   ]
  },
  {
   "cell_type": "code",
   "execution_count": 205,
   "id": "a2c797d3",
   "metadata": {},
   "outputs": [
    {
     "name": "stdout",
     "output_type": "stream",
     "text": [
      "93.0\n"
     ]
    }
   ],
   "source": [
    "print(accuracy_score(Y_test, Y_predict)*100)"
   ]
  },
  {
   "cell_type": "markdown",
   "id": "c04ffdaf",
   "metadata": {},
   "source": [
    "### MODEL WITH K = 20"
   ]
  },
  {
   "cell_type": "code",
   "execution_count": 206,
   "id": "948c4c25",
   "metadata": {},
   "outputs": [
    {
     "name": "stdout",
     "output_type": "stream",
     "text": [
      "[[40  7]\n",
      " [ 7 46]]\n"
     ]
    },
    {
     "name": "stderr",
     "output_type": "stream",
     "text": [
      "/Users/pratik/opt/anaconda3/lib/python3.9/site-packages/sklearn/neighbors/_classification.py:228: FutureWarning: Unlike other reduction functions (e.g. `skew`, `kurtosis`), the default behavior of `mode` typically preserves the axis it acts along. In SciPy 1.11.0, this behavior will change: the default value of `keepdims` will become False, the `axis` over which the statistic is taken will be eliminated, and the value None will no longer be accepted. Set `keepdims` to True or False to avoid this warning.\n",
      "  mode, _ = stats.mode(_y[neigh_ind, k], axis=1)\n"
     ]
    }
   ],
   "source": [
    "from sklearn.neighbors import KNeighborsClassifier \n",
    "neigh = KNeighborsClassifier(n_neighbors=18) \n",
    "model = neigh.fit(X, Y)\n",
    "Y_predict = model.predict(X_test)\n",
    "print(confusion_matrix(Y_test, Y_predict))"
   ]
  },
  {
   "cell_type": "code",
   "execution_count": 207,
   "id": "4e08a5d2",
   "metadata": {},
   "outputs": [
    {
     "name": "stdout",
     "output_type": "stream",
     "text": [
      "86.0\n"
     ]
    }
   ],
   "source": [
    "print(accuracy_score(Y_test, Y_predict)*100)"
   ]
  },
  {
   "cell_type": "markdown",
   "id": "a91c37a6",
   "metadata": {},
   "source": [
    "#### The  model with K = 6 gave us the highest accuracy of 96%. The accuracy increased from K=3 to k=-5 and to K=6. However increasing the values of K beyond 7 to 10,18 resulted in decrease in accuracies to 93 % and 86% respectively."
   ]
  },
  {
   "cell_type": "markdown",
   "id": "f2136319",
   "metadata": {},
   "source": [
    "## Part II: Conclusion\n"
   ]
  },
  {
   "cell_type": "markdown",
   "id": "f3da8fdb",
   "metadata": {},
   "source": [
    "#### In predictng the Sex of Penguins,the accuracy of Descision Tree Classifier was 90% which furhter increased to 91% by using the Random Forest classifier. The Accuracy decreased to 63% when using the Gaussian Naive Bayes algorithm. Random Forest predicted  the Culmin_depth, body_mass and Culmin_length as the top three most important features in that order. \n",
    "\n",
    "#### The RBF Kernel in Support vector machines gave the maximum accuracy of 92% amongst all Kernels used, followed closely by Linear Kernel at 90%. Polynomial Kernel resulted in a decrease of accuracy to 81%. We then used Clustering to predict the best value of  number of clusters using the Kmeans algorithm. From the Elbow method, value of K in the range of 3 to 5 seemed like a good range. We then used the KNN algorithm to predict the sex which resulted in a maximum accuracy of 96% at K=6. \n",
    "\n",
    "#### Hence amongst all the algorithms used, KNN algorithm (k=6) gave the maximum accuracy at 96%, followed by the Support Vector machines RBF Kernel predicted at 92%, Random Forest at 91% and Decision Tree Classifer at 90%."
   ]
  },
  {
   "cell_type": "markdown",
   "id": "fac7e173",
   "metadata": {},
   "source": [
    "## Highlights"
   ]
  },
  {
   "cell_type": "markdown",
   "id": "cb955762",
   "metadata": {},
   "source": [
    "#### It was interesting to see that the Culmen length, Flipper Length, and Culmen Depth were the Top Three most important features in predicting the Species, which changed to Culmin_depth, body_mass and Culmin_length when predciting the Sex of the Penguins."
   ]
  }
 ],
 "metadata": {
  "kernelspec": {
   "display_name": "Python 3 (ipykernel)",
   "language": "python",
   "name": "python3"
  },
  "language_info": {
   "codemirror_mode": {
    "name": "ipython",
    "version": 3
   },
   "file_extension": ".py",
   "mimetype": "text/x-python",
   "name": "python",
   "nbconvert_exporter": "python",
   "pygments_lexer": "ipython3",
   "version": "3.9.13"
  }
 },
 "nbformat": 4,
 "nbformat_minor": 5
}
